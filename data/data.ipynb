{
 "cells": [
  {
   "cell_type": "code",
   "execution_count": 1,
   "metadata": {
    "scrolled": true
   },
   "outputs": [
    {
     "data": {
      "text/html": [
       "<div>\n",
       "<style scoped>\n",
       "    .dataframe tbody tr th:only-of-type {\n",
       "        vertical-align: middle;\n",
       "    }\n",
       "\n",
       "    .dataframe tbody tr th {\n",
       "        vertical-align: top;\n",
       "    }\n",
       "\n",
       "    .dataframe thead th {\n",
       "        text-align: right;\n",
       "    }\n",
       "</style>\n",
       "<table border=\"1\" class=\"dataframe\">\n",
       "  <thead>\n",
       "    <tr style=\"text-align: right;\">\n",
       "      <th></th>\n",
       "      <th>Year</th>\n",
       "      <th>Month</th>\n",
       "      <th>Retailer</th>\n",
       "      <th>StoreType</th>\n",
       "      <th>State</th>\n",
       "      <th>Region</th>\n",
       "      <th>Category</th>\n",
       "      <th>TY AUR</th>\n",
       "      <th>Units</th>\n",
       "    </tr>\n",
       "  </thead>\n",
       "  <tbody>\n",
       "    <tr>\n",
       "      <th>0</th>\n",
       "      <td>2019</td>\n",
       "      <td>Feb</td>\n",
       "      <td>AAFES</td>\n",
       "      <td>B&amp;M</td>\n",
       "      <td>AE</td>\n",
       "      <td>OTHER</td>\n",
       "      <td>JACKET/VEST</td>\n",
       "      <td>NaN</td>\n",
       "      <td>0</td>\n",
       "    </tr>\n",
       "    <tr>\n",
       "      <th>1</th>\n",
       "      <td>2019</td>\n",
       "      <td>Feb</td>\n",
       "      <td>AAFES</td>\n",
       "      <td>B&amp;M</td>\n",
       "      <td>AE</td>\n",
       "      <td>OTHER</td>\n",
       "      <td>PANT/CAPRI</td>\n",
       "      <td>NaN</td>\n",
       "      <td>14</td>\n",
       "    </tr>\n",
       "    <tr>\n",
       "      <th>2</th>\n",
       "      <td>2019</td>\n",
       "      <td>Feb</td>\n",
       "      <td>AAFES</td>\n",
       "      <td>B&amp;M</td>\n",
       "      <td>AK</td>\n",
       "      <td>NORTHWEST</td>\n",
       "      <td>JACKET/VEST</td>\n",
       "      <td>NaN</td>\n",
       "      <td>0</td>\n",
       "    </tr>\n",
       "    <tr>\n",
       "      <th>3</th>\n",
       "      <td>2019</td>\n",
       "      <td>Feb</td>\n",
       "      <td>AAFES</td>\n",
       "      <td>B&amp;M</td>\n",
       "      <td>AK</td>\n",
       "      <td>NORTHWEST</td>\n",
       "      <td>PANT/CAPRI</td>\n",
       "      <td>NaN</td>\n",
       "      <td>28</td>\n",
       "    </tr>\n",
       "    <tr>\n",
       "      <th>4</th>\n",
       "      <td>2019</td>\n",
       "      <td>Feb</td>\n",
       "      <td>AAFES</td>\n",
       "      <td>B&amp;M</td>\n",
       "      <td>AL</td>\n",
       "      <td>SOUTHEAST</td>\n",
       "      <td>JACKET/VEST</td>\n",
       "      <td>NaN</td>\n",
       "      <td>2</td>\n",
       "    </tr>\n",
       "  </tbody>\n",
       "</table>\n",
       "</div>"
      ],
      "text/plain": [
       "   Year Month Retailer StoreType State     Region     Category TY AUR Units\n",
       "0  2019   Feb    AAFES       B&M    AE      OTHER  JACKET/VEST    NaN     0\n",
       "1  2019   Feb    AAFES       B&M    AE      OTHER   PANT/CAPRI    NaN    14\n",
       "2  2019   Feb    AAFES       B&M    AK  NORTHWEST  JACKET/VEST    NaN     0\n",
       "3  2019   Feb    AAFES       B&M    AK  NORTHWEST   PANT/CAPRI    NaN    28\n",
       "4  2019   Feb    AAFES       B&M    AL  SOUTHEAST  JACKET/VEST    NaN     2"
      ]
     },
     "execution_count": 1,
     "metadata": {},
     "output_type": "execute_result"
    }
   ],
   "source": [
    "#Dependencies and Setup\n",
    "import csv\n",
    "import pandas as pd\n",
    "import matplotlib.pyplot as plt\n",
    "import numpy as np\n",
    "import requests\n",
    "import time\n",
    "from scipy.stats import linregress\n",
    "import scipy.stats as st\n",
    "import json\n",
    "\n",
    "file_to_load = \"NPD_Data_2018_2019_V3.csv\"\n",
    "\n",
    "purchase_data = pd.read_csv(file_to_load)\n",
    "purchase_data_df = pd.DataFrame(purchase_data)\n",
    "purchase_data_df.head()"
   ]
  },
  {
   "cell_type": "code",
   "execution_count": 2,
   "metadata": {},
   "outputs": [],
   "source": [
    "#Remove commas from the numbers\n",
    "purchase_data['Units'] = purchase_data['Units'].replace(',','', regex=True)\n",
    "\n",
    "#Convert the Units column as int\n",
    "purchase_data['Units'] = purchase_data['Units'].astype(float)"
   ]
  },
  {
   "cell_type": "code",
   "execution_count": 3,
   "metadata": {},
   "outputs": [
    {
     "data": {
      "text/html": [
       "<div>\n",
       "<style scoped>\n",
       "    .dataframe tbody tr th:only-of-type {\n",
       "        vertical-align: middle;\n",
       "    }\n",
       "\n",
       "    .dataframe tbody tr th {\n",
       "        vertical-align: top;\n",
       "    }\n",
       "\n",
       "    .dataframe thead th {\n",
       "        text-align: right;\n",
       "    }\n",
       "</style>\n",
       "<table border=\"1\" class=\"dataframe\">\n",
       "  <thead>\n",
       "    <tr style=\"text-align: right;\">\n",
       "      <th></th>\n",
       "      <th>Year</th>\n",
       "      <th>Units</th>\n",
       "    </tr>\n",
       "  </thead>\n",
       "  <tbody>\n",
       "    <tr>\n",
       "      <th>count</th>\n",
       "      <td>43656.000000</td>\n",
       "      <td>43656.000000</td>\n",
       "    </tr>\n",
       "    <tr>\n",
       "      <th>mean</th>\n",
       "      <td>2019.496701</td>\n",
       "      <td>97.326507</td>\n",
       "    </tr>\n",
       "    <tr>\n",
       "      <th>std</th>\n",
       "      <td>0.499995</td>\n",
       "      <td>666.411671</td>\n",
       "    </tr>\n",
       "    <tr>\n",
       "      <th>min</th>\n",
       "      <td>2019.000000</td>\n",
       "      <td>-72.000000</td>\n",
       "    </tr>\n",
       "    <tr>\n",
       "      <th>25%</th>\n",
       "      <td>2019.000000</td>\n",
       "      <td>0.000000</td>\n",
       "    </tr>\n",
       "    <tr>\n",
       "      <th>50%</th>\n",
       "      <td>2019.000000</td>\n",
       "      <td>6.000000</td>\n",
       "    </tr>\n",
       "    <tr>\n",
       "      <th>75%</th>\n",
       "      <td>2020.000000</td>\n",
       "      <td>40.000000</td>\n",
       "    </tr>\n",
       "    <tr>\n",
       "      <th>max</th>\n",
       "      <td>2020.000000</td>\n",
       "      <td>59480.000000</td>\n",
       "    </tr>\n",
       "  </tbody>\n",
       "</table>\n",
       "</div>"
      ],
      "text/plain": [
       "               Year         Units\n",
       "count  43656.000000  43656.000000\n",
       "mean    2019.496701     97.326507\n",
       "std        0.499995    666.411671\n",
       "min     2019.000000    -72.000000\n",
       "25%     2019.000000      0.000000\n",
       "50%     2019.000000      6.000000\n",
       "75%     2020.000000     40.000000\n",
       "max     2020.000000  59480.000000"
      ]
     },
     "execution_count": 3,
     "metadata": {},
     "output_type": "execute_result"
    }
   ],
   "source": [
    "purchase_data_df.describe()"
   ]
  },
  {
   "cell_type": "code",
   "execution_count": 4,
   "metadata": {},
   "outputs": [
    {
     "data": {
      "text/html": [
       "<div>\n",
       "<style scoped>\n",
       "    .dataframe tbody tr th:only-of-type {\n",
       "        vertical-align: middle;\n",
       "    }\n",
       "\n",
       "    .dataframe tbody tr th {\n",
       "        vertical-align: top;\n",
       "    }\n",
       "\n",
       "    .dataframe thead th {\n",
       "        text-align: right;\n",
       "    }\n",
       "</style>\n",
       "<table border=\"1\" class=\"dataframe\">\n",
       "  <thead>\n",
       "    <tr style=\"text-align: right;\">\n",
       "      <th></th>\n",
       "      <th>Month</th>\n",
       "      <th>Category</th>\n",
       "      <th>Units</th>\n",
       "    </tr>\n",
       "  </thead>\n",
       "  <tbody>\n",
       "    <tr>\n",
       "      <th>0</th>\n",
       "      <td>Feb</td>\n",
       "      <td>JACKET/VEST</td>\n",
       "      <td>0.0</td>\n",
       "    </tr>\n",
       "    <tr>\n",
       "      <th>1</th>\n",
       "      <td>Feb</td>\n",
       "      <td>PANT/CAPRI</td>\n",
       "      <td>14.0</td>\n",
       "    </tr>\n",
       "    <tr>\n",
       "      <th>2</th>\n",
       "      <td>Feb</td>\n",
       "      <td>JACKET/VEST</td>\n",
       "      <td>0.0</td>\n",
       "    </tr>\n",
       "    <tr>\n",
       "      <th>3</th>\n",
       "      <td>Feb</td>\n",
       "      <td>PANT/CAPRI</td>\n",
       "      <td>28.0</td>\n",
       "    </tr>\n",
       "    <tr>\n",
       "      <th>4</th>\n",
       "      <td>Feb</td>\n",
       "      <td>JACKET/VEST</td>\n",
       "      <td>2.0</td>\n",
       "    </tr>\n",
       "  </tbody>\n",
       "</table>\n",
       "</div>"
      ],
      "text/plain": [
       "  Month     Category  Units\n",
       "0   Feb  JACKET/VEST    0.0\n",
       "1   Feb   PANT/CAPRI   14.0\n",
       "2   Feb  JACKET/VEST    0.0\n",
       "3   Feb   PANT/CAPRI   28.0\n",
       "4   Feb  JACKET/VEST    2.0"
      ]
     },
     "execution_count": 4,
     "metadata": {},
     "output_type": "execute_result"
    }
   ],
   "source": [
    "camping_gear = purchase_data_df[['Month','Category','Units']]\n",
    "camping_gear.head()"
   ]
  },
  {
   "cell_type": "code",
   "execution_count": 5,
   "metadata": {},
   "outputs": [
    {
     "data": {
      "text/plain": [
       "Month\n",
       "Apr    3571\n",
       "Aug    3580\n",
       "Dec    3845\n",
       "Feb    3402\n",
       "Jan    3793\n",
       "Jul    3596\n",
       "Jun    3660\n",
       "Mar    3367\n",
       "May    3585\n",
       "Nov    3832\n",
       "Oct    3831\n",
       "Sep    3594\n",
       "dtype: int64"
      ]
     },
     "execution_count": 5,
     "metadata": {},
     "output_type": "execute_result"
    }
   ],
   "source": [
    "months = purchase_data_df.groupby('Month')\n",
    "months.size()"
   ]
  },
  {
   "cell_type": "code",
   "execution_count": 6,
   "metadata": {},
   "outputs": [],
   "source": [
    "retail = months.sum()"
   ]
  },
  {
   "cell_type": "code",
   "execution_count": 9,
   "metadata": {},
   "outputs": [
    {
     "data": {
      "image/png": "[encoded data removed]",
      "text/plain": [
       "<Figure size 432x288 with 1 Axes>"
      ]
     },
     "metadata": {
      "needs_background": "light"
     },
     "output_type": "display_data"
    },
    {
     "data": {
      "text/plain": [
       "<Figure size 432x288 with 0 Axes>"
      ]
     },
     "metadata": {},
     "output_type": "display_data"
    }
   ],
   "source": [
    "data_points = purchase_data_df.groupby([\"Year\",\"Month\"]).count()[\"Category\"]\n",
    "\n",
    "data_points.unstack(0).plot(kind=\"bar\", color=['blue','orange'])\n",
    "plt.title(\"Total Units Sold by Month\")\n",
    "plt.ylabel(\"Total Units Sold\")\n",
    "pd.set_option('mode.chained_assignment', None)\n",
    "plt.show()\n",
    "\n",
    "\n",
    "# Save the plotted figure as .pngs\n",
    "plt.savefig('Units.png')"
   ]
  },
  {
   "cell_type": "code",
   "execution_count": 10,
   "metadata": {
    "scrolled": true
   },
   "outputs": [],
   "source": [
    "clean_data = purchase_data.dropna()"
   ]
  },
  {
   "cell_type": "code",
   "execution_count": 11,
   "metadata": {},
   "outputs": [],
   "source": [
    "nineteen = clean_data[clean_data[\"Year\"]==2019]\n",
    "twenty = clean_data[clean_data[\"Year\"]==2020]\n",
    "\n",
    "nineteen_clothes = nineteen[(nineteen['Category'] == 'TENT') | (nineteen['Category'] == 'TENT')]\n",
    "twenty_clothes = twenty[(twenty['Category'] == 'SLEEPING BAG') | (twenty['Category'] == 'SLEEPING BAG')]"
   ]
  },
  {
   "cell_type": "code",
   "execution_count": 12,
   "metadata": {
    "scrolled": true
   },
   "outputs": [
    {
     "data": {
      "image/png": "[encoded data removed]",
      "text/plain": [
       "<Figure size 432x288 with 1 Axes>"
      ]
     },
     "metadata": {
      "needs_background": "light"
     },
     "output_type": "display_data"
    },
    {
     "data": {
      "text/plain": [
       "<Figure size 432x288 with 0 Axes>"
      ]
     },
     "metadata": {},
     "output_type": "display_data"
    }
   ],
   "source": [
    "nineteen_clothes['Units'] = nineteen_clothes['Units'].astype(float)\n",
    "twenty_clothes['Units'] = twenty_clothes['Units'].astype(float)\n",
    "\n",
    "a = nineteen_clothes.groupby(['Month'],sort = False).sum()\n",
    "b = twenty_clothes.groupby(['Month'], sort = False).sum()\n",
    "\n",
    "plt.plot(a[\"Units\"],color=\"blue\")\n",
    "plt.plot(b[\"Units\"],color=\"orange\")\n",
    "plt.legend([\"2019\",\"2020\"])\n",
    "plt.title(\"Tents & Sleeping Bags\")\n",
    "plt.xlabel(\"Month\")\n",
    "plt.ylabel(\"Units\")\n",
    "pd.set_option('mode.chained_assignment', None)\n",
    "plt.show()\n",
    "\n",
    "# Save the plotted figure as .pngs\n",
    "plt.savefig('Tents_sleeping.png')"
   ]
  },
  {
   "cell_type": "code",
   "execution_count": null,
   "metadata": {},
   "outputs": [],
   "source": []
  },
  {
   "cell_type": "code",
   "execution_count": null,
   "metadata": {},
   "outputs": [],
   "source": []
  },
  {
   "cell_type": "code",
   "execution_count": null,
   "metadata": {},
   "outputs": [],
   "source": []
  },
  {
   "cell_type": "code",
   "execution_count": null,
   "metadata": {},
   "outputs": [],
   "source": []
  },
  {
   "cell_type": "code",
   "execution_count": null,
   "metadata": {},
   "outputs": [],
   "source": []
  },
  {
   "cell_type": "code",
   "execution_count": null,
   "metadata": {},
   "outputs": [],
   "source": []
  },
  {
   "cell_type": "code",
   "execution_count": null,
   "metadata": {},
   "outputs": [],
   "source": []
  },
  {
   "cell_type": "code",
   "execution_count": null,
   "metadata": {},
   "outputs": [],
   "source": []
  },
  {
   "cell_type": "code",
   "execution_count": null,
   "metadata": {},
   "outputs": [],
   "source": []
  },
  {
   "cell_type": "code",
   "execution_count": null,
   "metadata": {},
   "outputs": [],
   "source": []
  },
  {
   "cell_type": "code",
   "execution_count": null,
   "metadata": {},
   "outputs": [],
   "source": []
  }
 ],
 "metadata": {
  "anaconda-cloud": {},
  "kernelspec": {
   "display_name": "Python [conda env:PythonData]",
   "language": "python",
   "name": "conda-env-PythonData-py"
  },
  "language_info": {
   "codemirror_mode": {
    "name": "ipython",
    "version": 3
   },
   "file_extension": ".py",
   "mimetype": "text/x-python",
   "name": "python",
   "nbconvert_exporter": "python",
   "pygments_lexer": "ipython3",
   "version": "3.6.10"
  }
 },
 "nbformat": 4,
 "nbformat_minor": 2
}
