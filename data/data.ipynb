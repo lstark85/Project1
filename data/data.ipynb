{
 "cells": [
  {
   "cell_type": "code",
   "execution_count": 2,
   "metadata": {},
   "outputs": [],
   "source": [
    "%matplotlib notebook"
   ]
  },
  {
   "cell_type": "code",
   "execution_count": 3,
   "metadata": {},
   "outputs": [],
   "source": [
    "#Dependencies and Setup\n",
    "import csv\n",
    "import pandas as pd\n",
    "import matplotlib.pyplot as plt\n",
    "import numpy as np\n",
    "import requests\n",
    "import time\n",
    "from scipy.stats import linregress\n",
    "import scipy.stats as st\n",
    "import json\n",
    "\n",
    "#Import API key\n",
    "from api_key import api_key\n",
    "\n",
    "#Output File (CSV)\n",
    "data1=\"NPD_Data_2018_2019_V2.csv\"\n",
    "data2=\"NPD_Data_2018_2019_V3.csv\"\n",
    "\n",
    "#Read CSV files\n",
    "v2=pd.read_csv(data1)\n",
    "v3=pd.read_csv(data2)"
   ]
  },
  {
   "cell_type": "code",
   "execution_count": 4,
   "metadata": {},
   "outputs": [
    {
     "data": {
      "text/html": [
       "<div>\n",
       "<style scoped>\n",
       "    .dataframe tbody tr th:only-of-type {\n",
       "        vertical-align: middle;\n",
       "    }\n",
       "\n",
       "    .dataframe tbody tr th {\n",
       "        vertical-align: top;\n",
       "    }\n",
       "\n",
       "    .dataframe thead th {\n",
       "        text-align: right;\n",
       "    }\n",
       "</style>\n",
       "<table border=\"1\" class=\"dataframe\">\n",
       "  <thead>\n",
       "    <tr style=\"text-align: right;\">\n",
       "      <th></th>\n",
       "      <th>Month</th>\n",
       "      <th>Retailer</th>\n",
       "      <th>StoreType</th>\n",
       "      <th>Category</th>\n",
       "      <th>Units</th>\n",
       "    </tr>\n",
       "  </thead>\n",
       "  <tbody>\n",
       "    <tr>\n",
       "      <th>0</th>\n",
       "      <td>2018 Apr</td>\n",
       "      <td>AAFES</td>\n",
       "      <td>B&amp;M</td>\n",
       "      <td>DAYPACK</td>\n",
       "      <td>0</td>\n",
       "    </tr>\n",
       "    <tr>\n",
       "      <th>1</th>\n",
       "      <td>2018 Apr</td>\n",
       "      <td>AAFES</td>\n",
       "      <td>B&amp;M</td>\n",
       "      <td>JACKET/VEST</td>\n",
       "      <td>60</td>\n",
       "    </tr>\n",
       "    <tr>\n",
       "      <th>2</th>\n",
       "      <td>2018 Apr</td>\n",
       "      <td>AAFES</td>\n",
       "      <td>B&amp;M</td>\n",
       "      <td>PANT/CAPRI</td>\n",
       "      <td>7401</td>\n",
       "    </tr>\n",
       "    <tr>\n",
       "      <th>3</th>\n",
       "      <td>2018 Apr</td>\n",
       "      <td>AAFES</td>\n",
       "      <td>ECOMMERCE</td>\n",
       "      <td>SLEEPING BAG</td>\n",
       "      <td>0</td>\n",
       "    </tr>\n",
       "    <tr>\n",
       "      <th>4</th>\n",
       "      <td>2018 Apr</td>\n",
       "      <td>AAFES</td>\n",
       "      <td>OTHER</td>\n",
       "      <td>PANT/CAPRI</td>\n",
       "      <td>-15</td>\n",
       "    </tr>\n",
       "  </tbody>\n",
       "</table>\n",
       "</div>"
      ],
      "text/plain": [
       "      Month Retailer  StoreType      Category  Units\n",
       "0  2018 Apr    AAFES        B&M       DAYPACK      0\n",
       "1  2018 Apr    AAFES        B&M   JACKET/VEST     60\n",
       "2  2018 Apr    AAFES        B&M    PANT/CAPRI   7401\n",
       "3  2018 Apr    AAFES  ECOMMERCE  SLEEPING BAG      0\n",
       "4  2018 Apr    AAFES      OTHER    PANT/CAPRI    -15"
      ]
     },
     "execution_count": 4,
     "metadata": {},
     "output_type": "execute_result"
    }
   ],
   "source": [
    "v2.head()"
   ]
  },
  {
   "cell_type": "code",
   "execution_count": 5,
   "metadata": {},
   "outputs": [
    {
     "data": {
      "text/html": [
       "<div>\n",
       "<style scoped>\n",
       "    .dataframe tbody tr th:only-of-type {\n",
       "        vertical-align: middle;\n",
       "    }\n",
       "\n",
       "    .dataframe tbody tr th {\n",
       "        vertical-align: top;\n",
       "    }\n",
       "\n",
       "    .dataframe thead th {\n",
       "        text-align: right;\n",
       "    }\n",
       "</style>\n",
       "<table border=\"1\" class=\"dataframe\">\n",
       "  <thead>\n",
       "    <tr style=\"text-align: right;\">\n",
       "      <th></th>\n",
       "      <th>Year</th>\n",
       "      <th>Month</th>\n",
       "      <th>Retailer</th>\n",
       "      <th>StoreType</th>\n",
       "      <th>State</th>\n",
       "      <th>Region</th>\n",
       "      <th>Category</th>\n",
       "      <th>TY AUR</th>\n",
       "      <th>Units</th>\n",
       "    </tr>\n",
       "  </thead>\n",
       "  <tbody>\n",
       "    <tr>\n",
       "      <th>0</th>\n",
       "      <td>2019</td>\n",
       "      <td>Feb</td>\n",
       "      <td>AAFES</td>\n",
       "      <td>B&amp;M</td>\n",
       "      <td>AE</td>\n",
       "      <td>OTHER</td>\n",
       "      <td>JACKET/VEST</td>\n",
       "      <td>NaN</td>\n",
       "      <td>0</td>\n",
       "    </tr>\n",
       "    <tr>\n",
       "      <th>1</th>\n",
       "      <td>2019</td>\n",
       "      <td>Feb</td>\n",
       "      <td>AAFES</td>\n",
       "      <td>B&amp;M</td>\n",
       "      <td>AE</td>\n",
       "      <td>OTHER</td>\n",
       "      <td>PANT/CAPRI</td>\n",
       "      <td>NaN</td>\n",
       "      <td>14</td>\n",
       "    </tr>\n",
       "    <tr>\n",
       "      <th>2</th>\n",
       "      <td>2019</td>\n",
       "      <td>Feb</td>\n",
       "      <td>AAFES</td>\n",
       "      <td>B&amp;M</td>\n",
       "      <td>AK</td>\n",
       "      <td>NORTHWEST</td>\n",
       "      <td>JACKET/VEST</td>\n",
       "      <td>NaN</td>\n",
       "      <td>0</td>\n",
       "    </tr>\n",
       "    <tr>\n",
       "      <th>3</th>\n",
       "      <td>2019</td>\n",
       "      <td>Feb</td>\n",
       "      <td>AAFES</td>\n",
       "      <td>B&amp;M</td>\n",
       "      <td>AK</td>\n",
       "      <td>NORTHWEST</td>\n",
       "      <td>PANT/CAPRI</td>\n",
       "      <td>NaN</td>\n",
       "      <td>28</td>\n",
       "    </tr>\n",
       "    <tr>\n",
       "      <th>4</th>\n",
       "      <td>2019</td>\n",
       "      <td>Feb</td>\n",
       "      <td>AAFES</td>\n",
       "      <td>B&amp;M</td>\n",
       "      <td>AL</td>\n",
       "      <td>SOUTHEAST</td>\n",
       "      <td>JACKET/VEST</td>\n",
       "      <td>NaN</td>\n",
       "      <td>2</td>\n",
       "    </tr>\n",
       "  </tbody>\n",
       "</table>\n",
       "</div>"
      ],
      "text/plain": [
       "   Year Month Retailer StoreType State     Region     Category TY AUR Units\n",
       "0  2019   Feb    AAFES       B&M    AE      OTHER  JACKET/VEST    NaN     0\n",
       "1  2019   Feb    AAFES       B&M    AE      OTHER   PANT/CAPRI    NaN    14\n",
       "2  2019   Feb    AAFES       B&M    AK  NORTHWEST  JACKET/VEST    NaN     0\n",
       "3  2019   Feb    AAFES       B&M    AK  NORTHWEST   PANT/CAPRI    NaN    28\n",
       "4  2019   Feb    AAFES       B&M    AL  SOUTHEAST  JACKET/VEST    NaN     2"
      ]
     },
     "execution_count": 5,
     "metadata": {},
     "output_type": "execute_result"
    }
   ],
   "source": [
    "v3.head()"
   ]
  },
  {
   "cell_type": "markdown",
   "metadata": {},
   "source": [
    "How many retailers for each version of data"
   ]
  },
  {
   "cell_type": "code",
   "execution_count": 8,
   "metadata": {},
   "outputs": [
    {
     "data": {
      "text/plain": [
       "38"
      ]
     },
     "execution_count": 8,
     "metadata": {},
     "output_type": "execute_result"
    }
   ],
   "source": [
    "v2_retailers=v2[\"Retailer\"].nunique()\n",
    "v2_retailers"
   ]
  },
  {
   "cell_type": "code",
   "execution_count": 10,
   "metadata": {},
   "outputs": [
    {
     "data": {
      "text/plain": [
       "29"
      ]
     },
     "execution_count": 10,
     "metadata": {},
     "output_type": "execute_result"
    }
   ],
   "source": [
    "v3_retailers=v3[\"Retailer\"].nunique()\n",
    "v3_retailers"
   ]
  },
  {
   "cell_type": "markdown",
   "metadata": {},
   "source": [
    "How many different categories for each version of data"
   ]
  },
  {
   "cell_type": "code",
   "execution_count": 12,
   "metadata": {},
   "outputs": [
    {
     "data": {
      "text/plain": [
       "array(['DAYPACK', 'JACKET/VEST', 'PANT/CAPRI', 'SLEEPING BAG', 'TENT'],\n",
       "      dtype=object)"
      ]
     },
     "execution_count": 12,
     "metadata": {},
     "output_type": "execute_result"
    }
   ],
   "source": [
    "v2_cat=v2[\"Category\"].unique()\n",
    "v2_cat"
   ]
  },
  {
   "cell_type": "code",
   "execution_count": 14,
   "metadata": {},
   "outputs": [
    {
     "data": {
      "text/plain": [
       "array(['JACKET/VEST', 'PANT/CAPRI', 'DAYPACK', 'SLEEPING BAG', 'TENT'],\n",
       "      dtype=object)"
      ]
     },
     "execution_count": 14,
     "metadata": {},
     "output_type": "execute_result"
    }
   ],
   "source": [
    "v3_cat=v3[\"Category\"].unique()\n",
    "v3_cat"
   ]
  },
  {
   "cell_type": "code",
   "execution_count": null,
   "metadata": {},
   "outputs": [],
   "source": []
  },
  {
   "cell_type": "code",
   "execution_count": null,
   "metadata": {},
   "outputs": [],
   "source": []
  },
  {
   "cell_type": "code",
   "execution_count": null,
   "metadata": {},
   "outputs": [],
   "source": []
  }
 ],
 "metadata": {
  "anaconda-cloud": {},
  "kernelspec": {
   "display_name": "Python [conda env:PythonData] *",
   "language": "python",
   "name": "conda-env-PythonData-py"
  },
  "language_info": {
   "codemirror_mode": {
    "name": "ipython",
    "version": 3
   },
   "file_extension": ".py",
   "mimetype": "text/x-python",
   "name": "python",
   "nbconvert_exporter": "python",
   "pygments_lexer": "ipython3",
   "version": "3.6.10"
  }
 },
 "nbformat": 4,
 "nbformat_minor": 2
}
