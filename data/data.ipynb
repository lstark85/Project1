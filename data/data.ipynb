{
 "cells": [
  {
   "cell_type": "code",
   "execution_count": 3,
   "metadata": {},
   "outputs": [],
   "source": [
    "%matplotlib notebook"
   ]
  },
  {
   "cell_type": "code",
   "execution_count": 4,
   "metadata": {},
   "outputs": [],
   "source": [
    "#Dependencies and Setup\n",
    "import csv\n",
    "import pandas as pd\n",
    "import matplotlib.pyplot as plt\n",
    "import numpy as np\n",
    "import requests\n",
    "import time\n",
    "from scipy.stats import linregress\n",
    "import scipy.stats as st\n",
    "import json\n",
    "\n",
    "#Import API key\n",
    "from api_key import api_key\n",
    "\n",
    "#Output File (CSV)\n",
    "data1=\"NPD_Data_2018_2019_V2.csv\"\n",
    "data2=\"NPD_Data_2018_2019_V3.csv\"\n",
    "\n",
    "#Read CSV files\n",
    "v2=pd.read_csv(data1)\n",
    "v3=pd.read_csv(data2)"
   ]
  },
  {
   "cell_type": "code",
   "execution_count": 5,
   "metadata": {},
   "outputs": [
    {
     "data": {
      "text/html": [
       "<div>\n",
       "<style scoped>\n",
       "    .dataframe tbody tr th:only-of-type {\n",
       "        vertical-align: middle;\n",
       "    }\n",
       "\n",
       "    .dataframe tbody tr th {\n",
       "        vertical-align: top;\n",
       "    }\n",
       "\n",
       "    .dataframe thead th {\n",
       "        text-align: right;\n",
       "    }\n",
       "</style>\n",
       "<table border=\"1\" class=\"dataframe\">\n",
       "  <thead>\n",
       "    <tr style=\"text-align: right;\">\n",
       "      <th></th>\n",
       "      <th>Month</th>\n",
       "      <th>Retailer</th>\n",
       "      <th>StoreType</th>\n",
       "      <th>Category</th>\n",
       "      <th>Units</th>\n",
       "    </tr>\n",
       "  </thead>\n",
       "  <tbody>\n",
       "    <tr>\n",
       "      <th>0</th>\n",
       "      <td>2018 Apr</td>\n",
       "      <td>AAFES</td>\n",
       "      <td>B&amp;M</td>\n",
       "      <td>DAYPACK</td>\n",
       "      <td>0</td>\n",
       "    </tr>\n",
       "    <tr>\n",
       "      <th>1</th>\n",
       "      <td>2018 Apr</td>\n",
       "      <td>AAFES</td>\n",
       "      <td>B&amp;M</td>\n",
       "      <td>JACKET/VEST</td>\n",
       "      <td>60</td>\n",
       "    </tr>\n",
       "    <tr>\n",
       "      <th>2</th>\n",
       "      <td>2018 Apr</td>\n",
       "      <td>AAFES</td>\n",
       "      <td>B&amp;M</td>\n",
       "      <td>PANT/CAPRI</td>\n",
       "      <td>7401</td>\n",
       "    </tr>\n",
       "    <tr>\n",
       "      <th>3</th>\n",
       "      <td>2018 Apr</td>\n",
       "      <td>AAFES</td>\n",
       "      <td>ECOMMERCE</td>\n",
       "      <td>SLEEPING BAG</td>\n",
       "      <td>0</td>\n",
       "    </tr>\n",
       "    <tr>\n",
       "      <th>4</th>\n",
       "      <td>2018 Apr</td>\n",
       "      <td>AAFES</td>\n",
       "      <td>OTHER</td>\n",
       "      <td>PANT/CAPRI</td>\n",
       "      <td>-15</td>\n",
       "    </tr>\n",
       "  </tbody>\n",
       "</table>\n",
       "</div>"
      ],
      "text/plain": [
       "      Month Retailer  StoreType      Category  Units\n",
       "0  2018 Apr    AAFES        B&M       DAYPACK      0\n",
       "1  2018 Apr    AAFES        B&M   JACKET/VEST     60\n",
       "2  2018 Apr    AAFES        B&M    PANT/CAPRI   7401\n",
       "3  2018 Apr    AAFES  ECOMMERCE  SLEEPING BAG      0\n",
       "4  2018 Apr    AAFES      OTHER    PANT/CAPRI    -15"
      ]
     },
     "execution_count": 5,
     "metadata": {},
     "output_type": "execute_result"
    }
   ],
   "source": [
    "v2.head()"
   ]
  },
  {
   "cell_type": "code",
   "execution_count": 6,
   "metadata": {},
   "outputs": [
    {
     "data": {
      "text/html": [
       "<div>\n",
       "<style scoped>\n",
       "    .dataframe tbody tr th:only-of-type {\n",
       "        vertical-align: middle;\n",
       "    }\n",
       "\n",
       "    .dataframe tbody tr th {\n",
       "        vertical-align: top;\n",
       "    }\n",
       "\n",
       "    .dataframe thead th {\n",
       "        text-align: right;\n",
       "    }\n",
       "</style>\n",
       "<table border=\"1\" class=\"dataframe\">\n",
       "  <thead>\n",
       "    <tr style=\"text-align: right;\">\n",
       "      <th></th>\n",
       "      <th>Year</th>\n",
       "      <th>Month</th>\n",
       "      <th>Retailer</th>\n",
       "      <th>StoreType</th>\n",
       "      <th>State</th>\n",
       "      <th>Region</th>\n",
       "      <th>Category</th>\n",
       "      <th>TY AUR</th>\n",
       "      <th>Units</th>\n",
       "    </tr>\n",
       "  </thead>\n",
       "  <tbody>\n",
       "    <tr>\n",
       "      <th>0</th>\n",
       "      <td>2019</td>\n",
       "      <td>Feb</td>\n",
       "      <td>AAFES</td>\n",
       "      <td>B&amp;M</td>\n",
       "      <td>AE</td>\n",
       "      <td>OTHER</td>\n",
       "      <td>JACKET/VEST</td>\n",
       "      <td>NaN</td>\n",
       "      <td>0</td>\n",
       "    </tr>\n",
       "    <tr>\n",
       "      <th>1</th>\n",
       "      <td>2019</td>\n",
       "      <td>Feb</td>\n",
       "      <td>AAFES</td>\n",
       "      <td>B&amp;M</td>\n",
       "      <td>AE</td>\n",
       "      <td>OTHER</td>\n",
       "      <td>PANT/CAPRI</td>\n",
       "      <td>NaN</td>\n",
       "      <td>14</td>\n",
       "    </tr>\n",
       "    <tr>\n",
       "      <th>2</th>\n",
       "      <td>2019</td>\n",
       "      <td>Feb</td>\n",
       "      <td>AAFES</td>\n",
       "      <td>B&amp;M</td>\n",
       "      <td>AK</td>\n",
       "      <td>NORTHWEST</td>\n",
       "      <td>JACKET/VEST</td>\n",
       "      <td>NaN</td>\n",
       "      <td>0</td>\n",
       "    </tr>\n",
       "    <tr>\n",
       "      <th>3</th>\n",
       "      <td>2019</td>\n",
       "      <td>Feb</td>\n",
       "      <td>AAFES</td>\n",
       "      <td>B&amp;M</td>\n",
       "      <td>AK</td>\n",
       "      <td>NORTHWEST</td>\n",
       "      <td>PANT/CAPRI</td>\n",
       "      <td>NaN</td>\n",
       "      <td>28</td>\n",
       "    </tr>\n",
       "    <tr>\n",
       "      <th>4</th>\n",
       "      <td>2019</td>\n",
       "      <td>Feb</td>\n",
       "      <td>AAFES</td>\n",
       "      <td>B&amp;M</td>\n",
       "      <td>AL</td>\n",
       "      <td>SOUTHEAST</td>\n",
       "      <td>JACKET/VEST</td>\n",
       "      <td>NaN</td>\n",
       "      <td>2</td>\n",
       "    </tr>\n",
       "  </tbody>\n",
       "</table>\n",
       "</div>"
      ],
      "text/plain": [
       "   Year Month Retailer StoreType State     Region     Category TY AUR Units\n",
       "0  2019   Feb    AAFES       B&M    AE      OTHER  JACKET/VEST    NaN     0\n",
       "1  2019   Feb    AAFES       B&M    AE      OTHER   PANT/CAPRI    NaN    14\n",
       "2  2019   Feb    AAFES       B&M    AK  NORTHWEST  JACKET/VEST    NaN     0\n",
       "3  2019   Feb    AAFES       B&M    AK  NORTHWEST   PANT/CAPRI    NaN    28\n",
       "4  2019   Feb    AAFES       B&M    AL  SOUTHEAST  JACKET/VEST    NaN     2"
      ]
     },
     "execution_count": 6,
     "metadata": {},
     "output_type": "execute_result"
    }
   ],
   "source": [
    "v3.head()"
   ]
  },
  {
   "cell_type": "markdown",
   "metadata": {},
   "source": [
    "How many retailers for each version of data"
   ]
  },
  {
   "cell_type": "code",
   "execution_count": 7,
   "metadata": {},
   "outputs": [
    {
     "data": {
      "text/plain": [
       "38"
      ]
     },
     "execution_count": 7,
     "metadata": {},
     "output_type": "execute_result"
    }
   ],
   "source": [
    "v2_retailers=v2[\"Retailer\"].nunique()\n",
    "v2_retailers"
   ]
  },
  {
   "cell_type": "code",
   "execution_count": 8,
   "metadata": {},
   "outputs": [
    {
     "data": {
      "text/plain": [
       "array(['AAFES', 'ACADEMY SPORTS', 'BACKCOUNTRY', 'BLOOMINGDALES',\n",
       "       'BOBS STORES', 'ChampaignSurplus', 'DICKS SPORTING GOODS',\n",
       "       'DILLARDS', 'EASTERN MOUNTAIN SPORTS', 'FIELDANDSTREAM',\n",
       "       'FINISH LINE', 'FOOT LOCKER, INC.', 'HIBBETT SPORTS', 'MACYS',\n",
       "       'MARINECORPSEXCHANGE', 'MODELLS', 'MOOSEJAW', 'NEIMAN MARCUS',\n",
       "       'NEXCOM', 'NORDSTROMPORTAL', 'OLYMPIA SPORTS',\n",
       "       'PETER GLENN_GREEN MOUNTAIN 3P ', 'REI', 'ROCK CREEK',\n",
       "       'RUNNINGSPECIALTYGROUP', 'SCHEELSSPORTS', 'VAILRESORTSRETAIL',\n",
       "       'VON MAUR', 'ZAPPOS.COM', 'PACIFICSUNWEAR', 'JIMMYJAZZ',\n",
       "       'SummitHut', 'HALFMOONOUTFITTERS', 'RAMSEYOUTDOOR', 'BassPro Domo',\n",
       "       'CabelasDomo', 'AlsSportingGoods', 'Olympia'], dtype=object)"
      ]
     },
     "execution_count": 8,
     "metadata": {},
     "output_type": "execute_result"
    }
   ],
   "source": [
    "retailers2=v2[\"Retailer\"].unique()\n",
    "retailers2"
   ]
  },
  {
   "cell_type": "code",
   "execution_count": 9,
   "metadata": {},
   "outputs": [
    {
     "data": {
      "text/plain": [
       "29"
      ]
     },
     "execution_count": 9,
     "metadata": {},
     "output_type": "execute_result"
    }
   ],
   "source": [
    "v3_retailers=v3[\"Retailer\"].nunique()\n",
    "v3_retailers"
   ]
  },
  {
   "cell_type": "code",
   "execution_count": 10,
   "metadata": {},
   "outputs": [
    {
     "data": {
      "text/plain": [
       "array(['AAFES', 'ACADEMY SPORTS', 'BACKCOUNTRY', 'BLOOMINGDALES',\n",
       "       'BOBS STORES', 'DICKS SPORTING GOODS', 'DILLARDS',\n",
       "       'EASTERN MOUNTAIN SPORTS', 'FIELDANDSTREAM', 'FINISH LINE',\n",
       "       'HIBBETT SPORTS', 'MACYS', 'MARINECORPSEXCHANGE', 'MODELLS',\n",
       "       'MOOSEJAW', 'NEIMAN MARCUS', 'NEXCOM', 'NORDSTROMPORTAL',\n",
       "       'OLYMPIA SPORTS', 'PACIFICSUNWEAR', 'REI', 'RUNNINGSPECIALTYGROUP',\n",
       "       'SCHEELSSPORTS', 'VAILRESORTSRETAIL', 'VON MAUR', 'ZAPPOS.COM',\n",
       "       'BassPro Domo', 'CabelasDomo', 'THENORTHFACEDTC'], dtype=object)"
      ]
     },
     "execution_count": 10,
     "metadata": {},
     "output_type": "execute_result"
    }
   ],
   "source": [
    "retailers3=v3[\"Retailer\"].unique()\n",
    "retailers3"
   ]
  },
  {
   "cell_type": "markdown",
   "metadata": {},
   "source": [
    "Drop retailers that aren't in both lists"
   ]
  },
  {
   "cell_type": "code",
   "execution_count": 11,
   "metadata": {},
   "outputs": [
    {
     "data": {
      "text/html": [
       "<div>\n",
       "<style scoped>\n",
       "    .dataframe tbody tr th:only-of-type {\n",
       "        vertical-align: middle;\n",
       "    }\n",
       "\n",
       "    .dataframe tbody tr th {\n",
       "        vertical-align: top;\n",
       "    }\n",
       "\n",
       "    .dataframe thead th {\n",
       "        text-align: right;\n",
       "    }\n",
       "</style>\n",
       "<table border=\"1\" class=\"dataframe\">\n",
       "  <thead>\n",
       "    <tr style=\"text-align: right;\">\n",
       "      <th></th>\n",
       "      <th>Month</th>\n",
       "      <th>StoreType</th>\n",
       "      <th>Category</th>\n",
       "      <th>Units</th>\n",
       "    </tr>\n",
       "    <tr>\n",
       "      <th>Retailer</th>\n",
       "      <th></th>\n",
       "      <th></th>\n",
       "      <th></th>\n",
       "      <th></th>\n",
       "    </tr>\n",
       "  </thead>\n",
       "  <tbody>\n",
       "    <tr>\n",
       "      <th>AAFES</th>\n",
       "      <td>2018 Apr</td>\n",
       "      <td>B&amp;M</td>\n",
       "      <td>DAYPACK</td>\n",
       "      <td>0</td>\n",
       "    </tr>\n",
       "    <tr>\n",
       "      <th>AAFES</th>\n",
       "      <td>2018 Apr</td>\n",
       "      <td>B&amp;M</td>\n",
       "      <td>JACKET/VEST</td>\n",
       "      <td>60</td>\n",
       "    </tr>\n",
       "    <tr>\n",
       "      <th>AAFES</th>\n",
       "      <td>2018 Apr</td>\n",
       "      <td>B&amp;M</td>\n",
       "      <td>PANT/CAPRI</td>\n",
       "      <td>7401</td>\n",
       "    </tr>\n",
       "    <tr>\n",
       "      <th>AAFES</th>\n",
       "      <td>2018 Apr</td>\n",
       "      <td>ECOMMERCE</td>\n",
       "      <td>SLEEPING BAG</td>\n",
       "      <td>0</td>\n",
       "    </tr>\n",
       "    <tr>\n",
       "      <th>AAFES</th>\n",
       "      <td>2018 Apr</td>\n",
       "      <td>OTHER</td>\n",
       "      <td>PANT/CAPRI</td>\n",
       "      <td>-15</td>\n",
       "    </tr>\n",
       "  </tbody>\n",
       "</table>\n",
       "</div>"
      ],
      "text/plain": [
       "             Month  StoreType      Category  Units\n",
       "Retailer                                          \n",
       "AAFES     2018 Apr        B&M       DAYPACK      0\n",
       "AAFES     2018 Apr        B&M   JACKET/VEST     60\n",
       "AAFES     2018 Apr        B&M    PANT/CAPRI   7401\n",
       "AAFES     2018 Apr  ECOMMERCE  SLEEPING BAG      0\n",
       "AAFES     2018 Apr      OTHER    PANT/CAPRI    -15"
      ]
     },
     "execution_count": 11,
     "metadata": {},
     "output_type": "execute_result"
    }
   ],
   "source": [
    "drop_retailer = v2.set_index(\"Retailer\")\n",
    "drop_retailer.head()"
   ]
  },
  {
   "cell_type": "code",
   "execution_count": 12,
   "metadata": {},
   "outputs": [
    {
     "data": {
      "text/html": [
       "<div>\n",
       "<style scoped>\n",
       "    .dataframe tbody tr th:only-of-type {\n",
       "        vertical-align: middle;\n",
       "    }\n",
       "\n",
       "    .dataframe tbody tr th {\n",
       "        vertical-align: top;\n",
       "    }\n",
       "\n",
       "    .dataframe thead th {\n",
       "        text-align: right;\n",
       "    }\n",
       "</style>\n",
       "<table border=\"1\" class=\"dataframe\">\n",
       "  <thead>\n",
       "    <tr style=\"text-align: right;\">\n",
       "      <th></th>\n",
       "      <th>Month</th>\n",
       "      <th>StoreType</th>\n",
       "      <th>Category</th>\n",
       "      <th>Units</th>\n",
       "    </tr>\n",
       "    <tr>\n",
       "      <th>Retailer</th>\n",
       "      <th></th>\n",
       "      <th></th>\n",
       "      <th></th>\n",
       "      <th></th>\n",
       "    </tr>\n",
       "  </thead>\n",
       "  <tbody>\n",
       "    <tr>\n",
       "      <th>AAFES</th>\n",
       "      <td>2018 Apr</td>\n",
       "      <td>B&amp;M</td>\n",
       "      <td>DAYPACK</td>\n",
       "      <td>0</td>\n",
       "    </tr>\n",
       "    <tr>\n",
       "      <th>AAFES</th>\n",
       "      <td>2018 Apr</td>\n",
       "      <td>B&amp;M</td>\n",
       "      <td>JACKET/VEST</td>\n",
       "      <td>60</td>\n",
       "    </tr>\n",
       "    <tr>\n",
       "      <th>AAFES</th>\n",
       "      <td>2018 Apr</td>\n",
       "      <td>B&amp;M</td>\n",
       "      <td>PANT/CAPRI</td>\n",
       "      <td>7401</td>\n",
       "    </tr>\n",
       "    <tr>\n",
       "      <th>AAFES</th>\n",
       "      <td>2018 Apr</td>\n",
       "      <td>ECOMMERCE</td>\n",
       "      <td>SLEEPING BAG</td>\n",
       "      <td>0</td>\n",
       "    </tr>\n",
       "    <tr>\n",
       "      <th>AAFES</th>\n",
       "      <td>2018 Apr</td>\n",
       "      <td>OTHER</td>\n",
       "      <td>PANT/CAPRI</td>\n",
       "      <td>-15</td>\n",
       "    </tr>\n",
       "    <tr>\n",
       "      <th>...</th>\n",
       "      <td>...</td>\n",
       "      <td>...</td>\n",
       "      <td>...</td>\n",
       "      <td>...</td>\n",
       "    </tr>\n",
       "    <tr>\n",
       "      <th>ZAPPOS.COM</th>\n",
       "      <td>2021 Apr</td>\n",
       "      <td>OTHER</td>\n",
       "      <td>SLEEPING BAG</td>\n",
       "      <td>0</td>\n",
       "    </tr>\n",
       "    <tr>\n",
       "      <th>ZAPPOS.COM</th>\n",
       "      <td>2021 Apr</td>\n",
       "      <td>OTHER</td>\n",
       "      <td>TENT</td>\n",
       "      <td>0</td>\n",
       "    </tr>\n",
       "    <tr>\n",
       "      <th>ZAPPOS.COM</th>\n",
       "      <td>2021 Apr</td>\n",
       "      <td>OUTLET</td>\n",
       "      <td>DAYPACK</td>\n",
       "      <td>192</td>\n",
       "    </tr>\n",
       "    <tr>\n",
       "      <th>ZAPPOS.COM</th>\n",
       "      <td>2021 Apr</td>\n",
       "      <td>OUTLET</td>\n",
       "      <td>JACKET/VEST</td>\n",
       "      <td>6</td>\n",
       "    </tr>\n",
       "    <tr>\n",
       "      <th>ZAPPOS.COM</th>\n",
       "      <td>2021 Apr</td>\n",
       "      <td>OUTLET</td>\n",
       "      <td>PANT/CAPRI</td>\n",
       "      <td>243</td>\n",
       "    </tr>\n",
       "  </tbody>\n",
       "</table>\n",
       "<p>7293 rows × 4 columns</p>\n",
       "</div>"
      ],
      "text/plain": [
       "               Month  StoreType      Category  Units\n",
       "Retailer                                            \n",
       "AAFES       2018 Apr        B&M       DAYPACK      0\n",
       "AAFES       2018 Apr        B&M   JACKET/VEST     60\n",
       "AAFES       2018 Apr        B&M    PANT/CAPRI   7401\n",
       "AAFES       2018 Apr  ECOMMERCE  SLEEPING BAG      0\n",
       "AAFES       2018 Apr      OTHER    PANT/CAPRI    -15\n",
       "...              ...        ...           ...    ...\n",
       "ZAPPOS.COM  2021 Apr      OTHER  SLEEPING BAG      0\n",
       "ZAPPOS.COM  2021 Apr      OTHER          TENT      0\n",
       "ZAPPOS.COM  2021 Apr     OUTLET       DAYPACK    192\n",
       "ZAPPOS.COM  2021 Apr     OUTLET   JACKET/VEST      6\n",
       "ZAPPOS.COM  2021 Apr     OUTLET    PANT/CAPRI    243\n",
       "\n",
       "[7293 rows x 4 columns]"
      ]
     },
     "execution_count": 12,
     "metadata": {},
     "output_type": "execute_result"
    }
   ],
   "source": [
    "drop2=drop_retailer.drop([\"ChampaignSurplus\",\"FOOT LOCKER, INC.\", \"PETER GLENN_GREEN MOUNTAIN 3P \", \"ROCK CREEK\", \"JIMMYJAZZ\", \"SummitHut\", \"HALFMOONOUTFITTERS\", \"RAMSEYOUTDOOR\", \"AlsSportingGoods\", \"Olympia\"])\n",
    "drop2"
   ]
  },
  {
   "cell_type": "code",
   "execution_count": 13,
   "metadata": {},
   "outputs": [
    {
     "data": {
      "text/html": [
       "<div>\n",
       "<style scoped>\n",
       "    .dataframe tbody tr th:only-of-type {\n",
       "        vertical-align: middle;\n",
       "    }\n",
       "\n",
       "    .dataframe tbody tr th {\n",
       "        vertical-align: top;\n",
       "    }\n",
       "\n",
       "    .dataframe thead th {\n",
       "        text-align: right;\n",
       "    }\n",
       "</style>\n",
       "<table border=\"1\" class=\"dataframe\">\n",
       "  <thead>\n",
       "    <tr style=\"text-align: right;\">\n",
       "      <th></th>\n",
       "      <th>Year</th>\n",
       "      <th>Month</th>\n",
       "      <th>StoreType</th>\n",
       "      <th>State</th>\n",
       "      <th>Region</th>\n",
       "      <th>Category</th>\n",
       "      <th>TY AUR</th>\n",
       "      <th>Units</th>\n",
       "    </tr>\n",
       "    <tr>\n",
       "      <th>Retailer</th>\n",
       "      <th></th>\n",
       "      <th></th>\n",
       "      <th></th>\n",
       "      <th></th>\n",
       "      <th></th>\n",
       "      <th></th>\n",
       "      <th></th>\n",
       "      <th></th>\n",
       "    </tr>\n",
       "  </thead>\n",
       "  <tbody>\n",
       "    <tr>\n",
       "      <th>AAFES</th>\n",
       "      <td>2019</td>\n",
       "      <td>Feb</td>\n",
       "      <td>B&amp;M</td>\n",
       "      <td>AE</td>\n",
       "      <td>OTHER</td>\n",
       "      <td>JACKET/VEST</td>\n",
       "      <td>NaN</td>\n",
       "      <td>0</td>\n",
       "    </tr>\n",
       "    <tr>\n",
       "      <th>AAFES</th>\n",
       "      <td>2019</td>\n",
       "      <td>Feb</td>\n",
       "      <td>B&amp;M</td>\n",
       "      <td>AE</td>\n",
       "      <td>OTHER</td>\n",
       "      <td>PANT/CAPRI</td>\n",
       "      <td>NaN</td>\n",
       "      <td>14</td>\n",
       "    </tr>\n",
       "    <tr>\n",
       "      <th>AAFES</th>\n",
       "      <td>2019</td>\n",
       "      <td>Feb</td>\n",
       "      <td>B&amp;M</td>\n",
       "      <td>AK</td>\n",
       "      <td>NORTHWEST</td>\n",
       "      <td>JACKET/VEST</td>\n",
       "      <td>NaN</td>\n",
       "      <td>0</td>\n",
       "    </tr>\n",
       "    <tr>\n",
       "      <th>AAFES</th>\n",
       "      <td>2019</td>\n",
       "      <td>Feb</td>\n",
       "      <td>B&amp;M</td>\n",
       "      <td>AK</td>\n",
       "      <td>NORTHWEST</td>\n",
       "      <td>PANT/CAPRI</td>\n",
       "      <td>NaN</td>\n",
       "      <td>28</td>\n",
       "    </tr>\n",
       "    <tr>\n",
       "      <th>AAFES</th>\n",
       "      <td>2019</td>\n",
       "      <td>Feb</td>\n",
       "      <td>B&amp;M</td>\n",
       "      <td>AL</td>\n",
       "      <td>SOUTHEAST</td>\n",
       "      <td>JACKET/VEST</td>\n",
       "      <td>NaN</td>\n",
       "      <td>2</td>\n",
       "    </tr>\n",
       "    <tr>\n",
       "      <th>...</th>\n",
       "      <td>...</td>\n",
       "      <td>...</td>\n",
       "      <td>...</td>\n",
       "      <td>...</td>\n",
       "      <td>...</td>\n",
       "      <td>...</td>\n",
       "      <td>...</td>\n",
       "      <td>...</td>\n",
       "    </tr>\n",
       "    <tr>\n",
       "      <th>ZAPPOS.COM</th>\n",
       "      <td>2020</td>\n",
       "      <td>Jan</td>\n",
       "      <td>ECOMMERCE</td>\n",
       "      <td>OTHER</td>\n",
       "      <td>OTHER</td>\n",
       "      <td>PANT/CAPRI</td>\n",
       "      <td>52.16</td>\n",
       "      <td>588</td>\n",
       "    </tr>\n",
       "    <tr>\n",
       "      <th>ZAPPOS.COM</th>\n",
       "      <td>2020</td>\n",
       "      <td>Jan</td>\n",
       "      <td>ECOMMERCE</td>\n",
       "      <td>OTHER</td>\n",
       "      <td>OTHER</td>\n",
       "      <td>TENT</td>\n",
       "      <td>NaN</td>\n",
       "      <td>0</td>\n",
       "    </tr>\n",
       "    <tr>\n",
       "      <th>ZAPPOS.COM</th>\n",
       "      <td>2020</td>\n",
       "      <td>Jan</td>\n",
       "      <td>OUTLET</td>\n",
       "      <td>OTHER</td>\n",
       "      <td>OTHER</td>\n",
       "      <td>DAYPACK</td>\n",
       "      <td>52.57</td>\n",
       "      <td>246</td>\n",
       "    </tr>\n",
       "    <tr>\n",
       "      <th>ZAPPOS.COM</th>\n",
       "      <td>2020</td>\n",
       "      <td>Jan</td>\n",
       "      <td>OUTLET</td>\n",
       "      <td>OTHER</td>\n",
       "      <td>OTHER</td>\n",
       "      <td>JACKET/VEST</td>\n",
       "      <td>44.99</td>\n",
       "      <td>12</td>\n",
       "    </tr>\n",
       "    <tr>\n",
       "      <th>ZAPPOS.COM</th>\n",
       "      <td>2020</td>\n",
       "      <td>Jan</td>\n",
       "      <td>OUTLET</td>\n",
       "      <td>OTHER</td>\n",
       "      <td>OTHER</td>\n",
       "      <td>PANT/CAPRI</td>\n",
       "      <td>33.84</td>\n",
       "      <td>300</td>\n",
       "    </tr>\n",
       "  </tbody>\n",
       "</table>\n",
       "<p>43656 rows × 8 columns</p>\n",
       "</div>"
      ],
      "text/plain": [
       "            Year Month  StoreType  State     Region     Category TY AUR Units\n",
       "Retailer                                                                     \n",
       "AAFES       2019   Feb        B&M     AE      OTHER  JACKET/VEST    NaN     0\n",
       "AAFES       2019   Feb        B&M     AE      OTHER   PANT/CAPRI    NaN    14\n",
       "AAFES       2019   Feb        B&M     AK  NORTHWEST  JACKET/VEST    NaN     0\n",
       "AAFES       2019   Feb        B&M     AK  NORTHWEST   PANT/CAPRI    NaN    28\n",
       "AAFES       2019   Feb        B&M     AL  SOUTHEAST  JACKET/VEST    NaN     2\n",
       "...          ...   ...        ...    ...        ...          ...    ...   ...\n",
       "ZAPPOS.COM  2020   Jan  ECOMMERCE  OTHER      OTHER   PANT/CAPRI  52.16   588\n",
       "ZAPPOS.COM  2020   Jan  ECOMMERCE  OTHER      OTHER         TENT    NaN     0\n",
       "ZAPPOS.COM  2020   Jan     OUTLET  OTHER      OTHER      DAYPACK  52.57   246\n",
       "ZAPPOS.COM  2020   Jan     OUTLET  OTHER      OTHER  JACKET/VEST  44.99    12\n",
       "ZAPPOS.COM  2020   Jan     OUTLET  OTHER      OTHER   PANT/CAPRI  33.84   300\n",
       "\n",
       "[43656 rows x 8 columns]"
      ]
     },
     "execution_count": 13,
     "metadata": {},
     "output_type": "execute_result"
    }
   ],
   "source": [
    "drop_retailer3 = v3.set_index(\"Retailer\")\n",
    "drop_retailer3"
   ]
  },
  {
   "cell_type": "code",
   "execution_count": 14,
   "metadata": {},
   "outputs": [
    {
     "data": {
      "text/html": [
       "<div>\n",
       "<style scoped>\n",
       "    .dataframe tbody tr th:only-of-type {\n",
       "        vertical-align: middle;\n",
       "    }\n",
       "\n",
       "    .dataframe tbody tr th {\n",
       "        vertical-align: top;\n",
       "    }\n",
       "\n",
       "    .dataframe thead th {\n",
       "        text-align: right;\n",
       "    }\n",
       "</style>\n",
       "<table border=\"1\" class=\"dataframe\">\n",
       "  <thead>\n",
       "    <tr style=\"text-align: right;\">\n",
       "      <th></th>\n",
       "      <th>Year</th>\n",
       "      <th>Month</th>\n",
       "      <th>StoreType</th>\n",
       "      <th>State</th>\n",
       "      <th>Region</th>\n",
       "      <th>Category</th>\n",
       "      <th>TY AUR</th>\n",
       "      <th>Units</th>\n",
       "    </tr>\n",
       "    <tr>\n",
       "      <th>Retailer</th>\n",
       "      <th></th>\n",
       "      <th></th>\n",
       "      <th></th>\n",
       "      <th></th>\n",
       "      <th></th>\n",
       "      <th></th>\n",
       "      <th></th>\n",
       "      <th></th>\n",
       "    </tr>\n",
       "  </thead>\n",
       "  <tbody>\n",
       "    <tr>\n",
       "      <th>AAFES</th>\n",
       "      <td>2019</td>\n",
       "      <td>Feb</td>\n",
       "      <td>B&amp;M</td>\n",
       "      <td>AE</td>\n",
       "      <td>OTHER</td>\n",
       "      <td>JACKET/VEST</td>\n",
       "      <td>NaN</td>\n",
       "      <td>0</td>\n",
       "    </tr>\n",
       "    <tr>\n",
       "      <th>AAFES</th>\n",
       "      <td>2019</td>\n",
       "      <td>Feb</td>\n",
       "      <td>B&amp;M</td>\n",
       "      <td>AE</td>\n",
       "      <td>OTHER</td>\n",
       "      <td>PANT/CAPRI</td>\n",
       "      <td>NaN</td>\n",
       "      <td>14</td>\n",
       "    </tr>\n",
       "    <tr>\n",
       "      <th>AAFES</th>\n",
       "      <td>2019</td>\n",
       "      <td>Feb</td>\n",
       "      <td>B&amp;M</td>\n",
       "      <td>AK</td>\n",
       "      <td>NORTHWEST</td>\n",
       "      <td>JACKET/VEST</td>\n",
       "      <td>NaN</td>\n",
       "      <td>0</td>\n",
       "    </tr>\n",
       "    <tr>\n",
       "      <th>AAFES</th>\n",
       "      <td>2019</td>\n",
       "      <td>Feb</td>\n",
       "      <td>B&amp;M</td>\n",
       "      <td>AK</td>\n",
       "      <td>NORTHWEST</td>\n",
       "      <td>PANT/CAPRI</td>\n",
       "      <td>NaN</td>\n",
       "      <td>28</td>\n",
       "    </tr>\n",
       "    <tr>\n",
       "      <th>AAFES</th>\n",
       "      <td>2019</td>\n",
       "      <td>Feb</td>\n",
       "      <td>B&amp;M</td>\n",
       "      <td>AL</td>\n",
       "      <td>SOUTHEAST</td>\n",
       "      <td>JACKET/VEST</td>\n",
       "      <td>NaN</td>\n",
       "      <td>2</td>\n",
       "    </tr>\n",
       "  </tbody>\n",
       "</table>\n",
       "</div>"
      ],
      "text/plain": [
       "          Year Month StoreType State     Region     Category TY AUR Units\n",
       "Retailer                                                                 \n",
       "AAFES     2019   Feb       B&M    AE      OTHER  JACKET/VEST    NaN     0\n",
       "AAFES     2019   Feb       B&M    AE      OTHER   PANT/CAPRI    NaN    14\n",
       "AAFES     2019   Feb       B&M    AK  NORTHWEST  JACKET/VEST    NaN     0\n",
       "AAFES     2019   Feb       B&M    AK  NORTHWEST   PANT/CAPRI    NaN    28\n",
       "AAFES     2019   Feb       B&M    AL  SOUTHEAST  JACKET/VEST    NaN     2"
      ]
     },
     "execution_count": 14,
     "metadata": {},
     "output_type": "execute_result"
    }
   ],
   "source": [
    "drop3=drop_retailer3.drop(\"THENORTHFACEDTC\")\n",
    "drop3.head()"
   ]
  },
  {
   "cell_type": "markdown",
   "metadata": {},
   "source": [
    "How many different categories for each version of data"
   ]
  },
  {
   "cell_type": "code",
   "execution_count": 15,
   "metadata": {},
   "outputs": [
    {
     "data": {
      "text/plain": [
       "array(['DAYPACK', 'JACKET/VEST', 'PANT/CAPRI', 'SLEEPING BAG', 'TENT'],\n",
       "      dtype=object)"
      ]
     },
     "execution_count": 15,
     "metadata": {},
     "output_type": "execute_result"
    }
   ],
   "source": [
    "v2_cat=v2[\"Category\"].unique()\n",
    "v2_cat"
   ]
  },
  {
   "cell_type": "code",
   "execution_count": 16,
   "metadata": {},
   "outputs": [
    {
     "data": {
      "text/plain": [
       "array(['JACKET/VEST', 'PANT/CAPRI', 'DAYPACK', 'SLEEPING BAG', 'TENT'],\n",
       "      dtype=object)"
      ]
     },
     "execution_count": 16,
     "metadata": {},
     "output_type": "execute_result"
    }
   ],
   "source": [
    "v3_cat=v3[\"Category\"].unique()\n",
    "v3_cat"
   ]
  },
  {
   "cell_type": "markdown",
   "metadata": {},
   "source": [
    "Calculate sum of units"
   ]
  },
  {
   "cell_type": "code",
   "execution_count": 17,
   "metadata": {},
   "outputs": [
    {
     "data": {
      "text/plain": [
       "7816587"
      ]
     },
     "execution_count": 17,
     "metadata": {},
     "output_type": "execute_result"
    }
   ],
   "source": [
    "v2_sum=drop2[\"Units\"].sum()\n",
    "v2_sum"
   ]
  },
  {
   "cell_type": "code",
   "execution_count": 18,
   "metadata": {},
   "outputs": [
    {
     "data": {
      "text/plain": [
       "'01402821800122548740080122410744110012080226141020622920309402622066868244801426146014303206010046250220210160004665000205225001206128816626402164182023421404200006464864846621066226120425427414122211602452220104200169240103440006118010000059444,36211886522684181,846881,93477026692141862626-20-2-22-418000000000200000000154-492508360321800000160160786154-14444518105230174482174844506-2082-2224168024443602065210046000000228221921366401024102180128029490282138817452166921000004648763045465036211244812229620168746116281341061240-4268-22902014011681581613480284405830054026104610461941603422203043020122-258460136201747418408162180506048874420180800001927025413848024282626268082820686246142600000202181201604624466-24017216100621032832186226228030242252201861342442102080410686064165258402220401420342602202,2981,42431882410219476140010247820202200064524140120002124067881038160012414324232036794200022836652244221080548192420894038141782483232820006828420218660448216670570452181722202440000484231406410164082442866148162022294926740101681329282561218221985657660001,2765404,50624130162541096102724106262562941,81000626760000000000005228000000003066002132542922442874009018126020000200400000000000000000156386046242202202021420102640210-24618004784002144148446040000402220000054164524824222020466040984210816101648202024203210450784841220160222304230303225046280202200181441621008361044805822022418226624180741107604416244010062018002476306600034032003012544010242-61052-82852198272101821801060228520138010876674-22800-418343819400482900476380880464440134624-401042421016761615448029641,404000584124001003400300420166620502084406262160038129640268200480000007121801,232644613644104640020000000026016222381041041468640601212658264204284001246001018686-2890098245446404140000022009650206410002004200021200468224040-206610-2146612240000044182400240200-2143060004040-20040164662020-268382441001,186226554864000028840-22000200200004000028000000000002000000000200042060004420000000000000020000000002200218804201806102236320200266010816100400000420020842000006220000032520062-2198480000090-43321840956-42,17611892260-4674243452-214646642900424030038136661422312-8162028216-254641104264-2026080-22280564438620260684196646861844094-233482140660266-21502415602426892-218261040018010-248012616494-423610610202342021800540485401584000000224002200302088218022326-257022305801921061420416164260096430200000056092-2400009781183,17060637626040200200020004201,3287128,27078260000721022876100000014440310006220200028201000000002001200180262000110003200160060-26800400040-236001600200020024014268301122,036228522802026250802052078166620602401210414178820122181029222882014140042180241082284660463061610206610241010226456-2100184004048032040034248828210201248114020864203400400000022278001262140800241046018144402104023220824218882038000920000012642,6561405856181,45243,03885639410610608462022-42400000000000000000070-611488614240224000022-22648212174-2461057816622834284618022826262060020681002044558224642062000001462270176244406042603420026015057412810110822901581200000181410044446301002665227220232264184944136301628216222641602622434215049020268781050141045404004638456616286280284080364366-2114268524162362281368004844016-8782225361366642442200001609649422212540442806407478-617652390224200000012864010849874810060156623011082128424300481023818422238274246381823420252-14116966486102344000003612482646010202,0941,0246261,068280702022004618222840000343825400000626072861420122030423200184741,0486000666061228301282830202021294261017403048300200026263084442445483856376-261617604674000026283060262817803050330218242960841426820660118664412301960366865840003303023,4281632143920441425408050016243680015462400600000000007621320000000384940225658390407269202961023822000038-2340400000000000000210481321214261402161282121000848404820818223484400306281362020000000204000-2762005638802160246102646811012222042143044381630482216489652762141021200240286048224761056016660103261020202426566846114422281462-4803226012254138461618430616410221406123981414200-2-66456627620186201478-2-22201562-202632456142204186800-2146594603102502838042924320-6-2221161224900-4146836621,1546222-2-261284033422740-4-40366564484024438492258081,5202,9941820425402420036211200664154014410841,068082442060280072241528010812000040000001,1921761,392292188226383721602000-20000000006041021822221462022102842101812010244268628644382000341614210412266017012616880002016000004424010080101282040042220020182270262240861221816218102181022620003212-20104801226342000008600000400660000164480222062810152384810122000260244002200042000022004202000420221002006284400082002002000000020000003602000000200421220000212162000042326202081800181604200362421060040241612222-2000000200248-246200002806020206-20086-22382436000002108612242600001,768282,90034017446481,114118586802521246601426203424800722186122341046440161225624221082102064450201256014668000032011428194-2350121684-431824121380336812228468234284601366838-215461421065481424804366166800206302880223218121982324421440322146368480048721024330106000001886280304682-2120234022100000618482852641004390501826205766210636121,47874700000066-220614400002,1682185,8721,4787062220004204000000-4-41,69288612,202140540000168283667640000035410460402004400009434122600004200220066-2-41820002080062004200260090006000120052001400820-2200030012821,3881863,512142268879882443030608608867000104164220108501861880622422321018210208122218200092018807244320220082612416022082042016222140410044210004186862108232488410042342030280040000001320228838630328000166401421360032102014322-216300707000186005094000001,02801,92642347410996141,92081431684124483426060044002001401684221434020602800000000602000601400803404032021200010-22624400022008300000020800012-262400100610000002018002320008402040100360216046642010000240028200400202-200000000000000000000021604162180014180245420200212201830043808142022001040010224800216206802388622126640216001222061800216000212022200210064800034224004020248002200547000000022604261452008660000082024000064452274210160202800000140188526108437234426148260701276188420200240186106013012420902264020000090181686810160341204018102130120468104123622284388000001216742222649814216109214220662238841448181687610208381841626233272468461725044089238620-220622221833210864-2000822200684292346118122468212203414212068120306108706164200000011048378118122244018442141104461127034698240000004-22038472504206056141766849642067610144163421142626014628644486162811876026660422-22002-27818-20012601,0302925702483012000216148220400016422560000026203940144980223228229656750000036224422141411422281320212480801002103621420002228340438826601860426012101022066000002428290212181340285229006201682467860406366639601861342224441400002182222,46282018264212283340044402244400086417242000000000062-298400000022642221481630442388108226282100000008046000000000000000013620104462642061420163640101810021642106204632808406262200000440002421062810268182002062207214142026208103610201810236423032800402228123420863802408101204802820101240461486-26010802042616340582076210218214264214164812741280000-1486698107628156212101060-1818118220223856212166262082001386961836603014420202484106-2-20121166848800109230421,028162940-22164505301694022-218-25067024210384502860184121,342322634422168001810200244144010280289801802648002418004214984228802200000000688529381561403762422640220000000020218060146562222158280010947850066385240320600266126604200013802984800142600408207070046006200020200000250440040406244682145441442860000488802014028061820081400000400882121000100588612206185642403222002024144020000000000000000202010200000208080002200020200000012000200006420420000020000000220612401002682020106021818062002020012040004062216-2000220004200140000016000200040000000802146241600000146-2462282800001,20842,662246156286-61,1028282500166607401544102203864640130-241543761016838616088612142-23361822264112220000100780213822900149203462218840256020130-124621822460106023601341012170252222880023866666264201652-22361681500346141284-235210182200502504466284810000002438226-24608100-422421800003964762165464-42743238186-2516812452-21,19442620000078010061000001,2301923,6566421,2442040004060000061,0144469,220160120000076121988120000522620400402022001010160000004001800460-216600017800100003600220-248004800180076002600860022003600106732402,34203425284406140548603014058288006063408614232810080268282100118001020368210820180074344240120674104818020042426026260020160028040022212616481882860208656004432022000002400370241862456124003468022019400118980241600287010894042400078130000001,61823,0340-258218221,170202,3041,1806009010406702841844186063801412005631282261060263801160424000001806602102800026022421229204280602001464212862240762261742020018030026070014-24401022048208020180660218130200205204024028017206682274021007026056001081440040020000000000000000000000241180105010920044126627630604108402286050134024360422110208132024186-2181461068008104061160280330067653261243402341580347420161782001650268420456034260001082201542581702224160001217801184124400001414422416884320643035400000401304600008522814440132328280382420000020172128868364764884281634614026761686702200601462022152246009622020000000098829274101605816410020202186987281881052243466816000002810132264561817044636492281214664224122205018184622216123834214684366114108462292114634672344220621403122832812222006023021820524811442127824262862600503004058202310150786230340000013076430156381823614432141141162923837018828000004-24604810903862000501019628880831010412804636413220326174281026232220161301144304806010082014052266004001,302164808536166980082841213000002228128000001018298081268016242280342254600004022352022210204201480205406127401414158000018141860246192043030006-468002500000812220022010001014214061019402442370024238338044820183837200002241461,982-2142026404211602-24206342820014038000000000000442160216000003001244414410322816442144-2672227848000018082220000000000000016818150265400120012204026544012222021842102004166280814463416000000000004810626104206020628006000486424201402010108168282626302020242063218202001201446080442266163086400220400202812140222874414416418041012880647014420-122228104602815602614482-582144-222342256410138292260-65254820290012224141029047204-2012864594-22702260978102740813260510478-4003423844416214364584580103543,4502263250940041380222215001828170161,40804241464622242402842217468101218024220000001,640781,70649225027412386000000000000000006827015660834146480081563232012446728034000030212212061360136007870021654220662052506106020204200400-2234422040441286621464241402002020621662-2022400004-200-20-261200200002416100426302324962242000200010146022000004200002040000004210000020220060004060040042000000400020202020021200420220000000326612228242260002200108001002816020100401621026000200002000-200002400040006000002211804605811400000288-21,1269614600002,246247,4167421,14660822,91434447210804721844982922238302152226923344343121,124307836164-226660276304625061,118609640278163000004402122032214-48363486214287244116170-41,0082812225421,5369818678028016465204503676358-21,37420112134279622581182520529084-261848802682658401201546822449441201,5541823588206683452000003415201828019401818207944064000095422,3421302308008749013035021,3064612869682,95821248600000942518266400001,44243214,0682,3224,1168020001401200241,04643212,10232836000009014168304000042221722620222000161236000000000240060022100002320084007400300072006400140076002200700024003002116728323,556122130962626460192248020078224148026196206260861380301903053881864225012482618142310381762062502681204246200126100684264212220112161008726460052025812322682218024120666404012463721238300202761814152121601644800943600000042803202010183284142006662045011800140144070400052781121540885800168172000002,59203,46620118782,338223,2781,444936168248562102126143020260043622294-276344618422300105221820120800004205000169204560234203010426460180200325621490014809406819800000140300260464120580182003646212001824802201162001432218036074017406900252461229261005402641020-280-20000000000000000000000302240148228106007012018166244462215421411825617023051263414428361882222580241441052003014802215427646426102718814656030384026116403426220024128214162221474256272001014038186690298266022402162762176602210000020224656246883946106043640000861881000000646882826194382422321860000011401948866404264867668248364683144228218122122424002070038100374588241681442410000000580283741042098282581016044484946226798284264541364661463000000112141743621864814836614410118266528120358216302888027811622521013852123601124442463023810642013416310261665241440666886460384160104201409464212411434152861432211045816420300524802001122446642321,06448284000005502246642263014665634496141701722863021869031062000005402802181213260680106238322844214970457817210182307216570844502222228464662156501822804218438150921424842743611252214018203,6061741,6764861441258002054305622200004052248000005852356010241220146636207011289400005211651001220172016221160822110016402100324622600003290380038743380329053821430102041284000020843240426228036522980123424204411052604861145722202620004013053000004605563,13023048324216582080018420761434600362340200000000007601582800000224140042604861812287661084410014398414000040210826000000000000003344160101622200418042040100418601024621612064474160414-24144810220008600014200002182000244226488380360102200140012200112101214224148243441836258682422206222263856222812182622403202146246247200010000080816010046404634180028162280012158365402-203401,00424100902504824301182-56761660-210241527322217288010782239479090370828564864831816920-2-4-2701422545280128068601,254443102201401026223410402436266412969822213261614780201,2862,240818168014000106440320136083413281,05605224281032248022021082420622141210304222420000001,678901,3043623101,0341632410100000202168446356128302220292002002589072381214106134002806003616220328141940110012114220004418-2061002138616008000000002-2202218005002000200200421242-418401002400021822206024484-22000204000000-2026200200600641032000221,13017682200062800-2004414120060002-24200040000000008000000100422812004062000004000000200200042004006402020000124060202024022108401240026202480082102424420820-22000000000000002800020201600000000144-2338203200000282-2452183600002,156204,42826634659881,9461301661500388121266-228283246010606156180610302494123226582-242-21262082864670423056-21988800006201140102820676264221405121230196-46023630202-692860269209001482030020304528668646164-4528-2201103121822960230162635426821034186-243226303862932901321460446628000005201042448080210216042832100000952-61,3063076108-240856464240638341676241,9781021740000068425883000001,3802163,9885904560000000000000062,41615811,9604842840000025612304744600002427464604602288004616720002046422801043602400420306100128140588016801001007800281407663200688030466601661,290763,73421211496210482132632616466108152241616262623224102262218003234643202485410222202840212800244221621466586100112206252128322262014022100184400402050044501854260282026661044641023441438258142184102268234002982406000001,728023428224210210118001823801,638104204581100214320013876490980308200047698200005,88202,512001,350822,856283,078584302396146385026814045840163201224080190010669242226215804260000500560214542540110230540624032024028386164284220344849000000340220202480260180101602844082012048032822062201002401560122029221840280380603602242202402000000000020000000000038130030624290004410266863528281200161000881180463841232680422104654180454114245200188243890464332288041001285624625823060003021640026520389201262246258-62126646104660182-2448160022617822464160800002020404417894342085440624000038170220000384124,22627422275401840000001,17601222664,57820364542561,8866296212181,128046602300060206416804,00822404900340400000008,60212202464900-2423861980123485,60256448148164,97840200666000001,4766801222,264221022622,366850841,92866180168209081614264142204443641,6765024692261,5745025296204,00887622-22,2300506-26,11440306941230001208782261028868805261,206302326416498030242190-2622642,75810256031230000004,6808034878161,298028405582092144143,0365629816416000001960-2402,62667222014801026,026221762468,8462372741618002056103,65240288140329023818101,1122010615416934676804110012025944523045208800023,2463461,76622644001202800628014100008824296000019242338000001384448002682080744435402441249900000250706960221019402862222146154022182100723230600007446448015266482012266720082474000740000767045203020244094264200381428408278786002907488403814210027811866820001,1663683,8562382832203830268044106028620238002402000000000000074012401200000220640427212406822680944214061881012000026044040000000000000026641862122040068222026124280214648862038381000602626104228616000366412262022002626181101,03042584068306300240124813201202,39201676181260362162141220585006541140102226468722434603208284118046244828340010822184001021,242230675801204015210245622262,0329400005665585212212017852461862-16-142821842-2121040457610214620282294-60864660210170146842369420461080-8-8012092532390-420801,51601,27211619400468414432894680-22-66224070203214423834433820486263,3521,50201612567601814407009606281121285201044200140012218221362818064402380220400000003,48648874150503,5804432628020028844383389052442865200340238705212162194146223626008016180124836166098021281380213220614-4140220412161606021800102014076682680102216214221632018242102022460-41416-2148024442242002400000580248016226862022,6746488500-25026842001442044222224228200142234384012216208122101222162002816046222028204860038803244046260240221466828500600080120200040006060402000100800260120002-21221400240002000134240816280000000002540474104400001,816203,84823836256221,616112184156024610168801641010300400-284014228348358101426384185601841810250-839418405221022140000680888427843506641660404142618063222050224855442506010221811403864030336058210440001620332826600198282412602222438216-441618116170231443243801,0661041461140340223600000366801250780027603122424000086449342258134044856663502572123872401,7461602300000082017264200001,9921003,4401,130574020060200000029,236508,898506256000002008194344000002643669600-2024440036668000000420244206446017008002283607020508201409410030100322006042020056180200226201103,608843,1463005874656844722814212014122143818422862146621404270101206240103226226086806428012213810508140128288600441212013616268056004460706050304461001846942063437804624483322621646120106640010824222000002140198941234182088400146440580116003628602236002567004646801145200100106000007,69602,214221,650962,248141,38674055610282424416810005800122422224801140250426201842520028000070428022044050080020260614234028-2402403250223802428046200001601203204602421202410012244120012020-232460020160120209806000114211006160402103026040202-20000000000200000600000461064205288442044820466266640700346406413208617224682025210800581240401002840203466060126411423422148312-21212522721802444202561504020500225421852-2641222024585012005615204112142003414003063840600002898086118128312049426240000781440200006352162,5822130180862030140000080201883409,22214396384342,7180272152226,368610072101260200832210605,84222590138147601440000004,29422604261,776-65842455203842013,1482847411684,28016292601600002,790490622,638-61182022,1606786011,60626228158304,582819066121,1184522247,6302031092125,836824278184,6166882441,3560384016,58618436542213004001,6340361204,35228258184,542-42629045500321843340468013,532386682783600008,63618396100122,0526401422,10641041021010,01830450154300000088424404,664010222644602222,7341419230816,000104167444040-124448,1802638276344820481464,3004206136143,648-210850243606021,452040166960108000037,0762661,098142400027181742001048012846068283540000214163680400096665202282182294204666294741,242140001786877848820188072694234412022030210088223284000142384964176652221362657827812162034050000019485580641023801262023063640222015858810063181660641342027421543071440002,1262283,7701698162102120464664182680236201,06400400240200000000002640108000000080052621,006183821222156-25020252121862140000440482200000000000000252101228100242024021010422222063040264026321422008162-224244-21480061522103860105618126020743821289480899001025265406006822562801,074040320324042382660165020607462602042323259276658001,102060230081812825812022654750815852241622482790040102,302014612824838362186243282,4068400-4-875661811811069622026388870-212162562-2361679462211012668385854-202,50877250424238244202902642228076-12-10-23601321,414594-246603,03201,254224180-2-218296324434300762000824116723242418194854380364224283,7082,410836481568800424214240096044108614503,3720136021220210242441400356490122380222020800003,8581661,1662422381,386443121640000002414923864498843636230010312961102422256810223601000802254662686806192437613201883804005848143022000302060601624128-201403240120046443200186-2960244600120-2420062208-400000116016-2030-223004201,966-30704052001042004400226004200620142040210282480822262100410488253242003441402786140194328410438430024101420146222641020562000322626016281820444036814201220012214221582424222262520600841422612001922214423200000000026210284123400002,362522,09829822681809341641122260162816702944842-214049268044324102562024605442522742244204276264862-26468000052240410448420432462224190203427262324342841234648341162802617402002624586433845200021412158122010621402018702146243629242463676232816822300000510660286128172015814120000050281012902406286621412600001,05885781440108419036324080260222200001,084101,08614415200000172211882600002,1306844,970980522000000020400000816,9443810,67038230000015642501162600000274407460128460032615022402446223676017809801201672303281628084340561464604866180641201618226601024,5621062,8462741208645468054010169014225810264240201417418420440394163402226461105622424216011656214118-2602010011428056006014601323848804600862074676-25427016028280662001454627024161942-227242042860226360122414002000248461222307010620487401781000092120012302088520128108432240036118000001,35402,5726828248590201,74884630686225526108200180021001820474148443058014122128020160000024028001014214050-210362624460160261823216218026052662000100120120460121008401624442014024416528061226020600560470264201603821410056200020-2000000000000000400000206281430320032642648212426603262030620561804206208285401896036104640216460281042581560254234210056010942242041810000222212680840040148002624786402210600421420212969233420000018804290110138244213600000381104000033220216619646414413840000016403143881,68686644402302661849274648012174586260-480760241207501294210022120222200000422104924812102076142542821821,392228008012410639056200001584130262208121585022302148641,8802037213081,14082788862266822001,37814594526882232828623081323441140156828381676012614022221202486023601824862,076323241181478474140844661244,844721,12628436000054634612118166806644694-6162921497064592140380000088012422062136466240140220163124425482470210810984543661,0163256813812400761841,322504026666744162602800822466721226043620240105,630241,0821441444021611019622002676214418034440220005004200200072105341262014805605024122121,554160007648201680224206809802621540486294422232240007810560264867821386730108623803004400001086496236020409003704444166612018794061042538228423046027362000778203,7103210222826722440216444066639200320300-200000000001200880000000500764828020372124122058001442192012000010026000000000000000019624132161804820842018440222222616226202364620014621680260-202128002320062207224200002021,09248022005061062401201440880321281003028026140423424220041418064260103003412144405410028163658802226740440102210606243080142442120658000-2016635616887816020242898-8-242678246141684941614082414260-2712754148230122814430011615844600-4-60-246100710578210401,70401,33038200008662166378130920-2-2-430-10501444861341783142444-2121,5482,488242672170024604238017004280486723,29405822882221601622142470-26180102-210042200001,8983101,040164134462581782020000040221418162621063624144420141448864382014124108184600222614222602781802146152012580-222264-612002-20000-2218247804004012022240020268-245422-426200203621040120200-22224-2-241622158020-299812480442601822800404222084080200208020120020104628002201422240240012020618242882012641001681822102221006142820523216108408100028206641088262028122502006122004410022214201642816210866002404201698012822240120000000146-2298606600001,664201,7923602844304740156808401441428611220161602466602114821860292344412324236-250168194024036-2480364140000362326827801981830164-220438241301741030240226028864-254665601822822222-428432742220198-418630186213220125001362434202221226421221688600004880580905278019822200000054361012123440100024214260000630447290606821923436220021058440000850284254940000011208481200001,258422,7785544342202002806000002,4241410,472296128094827440200000014844920412200002608020400042442641280226016002583876345012123801201409261244621612240622008243026801589681602,0960-21362241,1280501000102052-21502012601802441422480816604032610500160708284602768158096198181013006568140128080800038460170302660520684084226038068-2602422282602414570321642240801426100208201030020810005202466362121490006702641700014940038020380161068320016124000050222,6222010210452861,93445217290-6380060001200101226160408024282400629804600000244180082002402828200222080801034010822010036222000004082362480420420200042120163820242204444066064224804801821012044220000000000000000000-2000000144282614100124002267006201836026600187621626002018084801250162001034023404213003086004260184014202224560081862804280329803218380168602248004466421448000014421038425602148000000868000002106118142467844298102000010402846007227849638641562440434017614124362122101602663880536147381001410012000000296205681321056106022048167880586185509462804041870200001228150280130819050214461901622664244268214446316126124605842260503506821626240384156181243805616861204746050210812406005463210030141142642522835010843041141845227810251810693819410000030482574144086272180602210850434692584180200000140440102261303041621401303037886102988875616018566100180370586981886146741801464025630-2981680140100-4204818146222444000488641,704981,1541627611488248184300021566625020984000300154000004002400120500220700904674400034-222401204228030010030020048016058000062150024220424621202629802020000012019428064228064010056026015600360248080660222352000023821,43241008206213220010030-2436002020000000000000420660600000162484411022272824002600461016482000014-230000000000000000080401381402120222400108021446142462620060082400-20-620200-21000624000-200002120424202-224020000000000624001403206280381008006040056038640102226014380342808020000144230042001614100160382010381810620482040024076013608168024180615430800-2-1470198104214921830-254-4-26486-2828663408684182800160384301620022212161040640-4-420638702924302020550-61120246422501226-200-2224-45422418160601084360225601,61648204811604486024096022147687460812420201400720501206042204020000000564134742144722704414660000000004204221818090164014070061265042848581024066001420204101010981540808802236214802460402-202016238078202164820240368240018-23016-21680-4-268040000-2180412054-200460-222960160612260202-24220-204222040000040402022002020200620241260240066204-400200024402014464028012200008608220208022204242122422241400424202250064801004478002600232640146341022-286122200000108621446320000952201,106314174302-27506626580844034762642403462309664164152402216264020266122122419438163406482000024030-44124216826-6882944022900112881082238482826288240156228204022434284624112212416456211614664012016181360982232114194141200002204400301872016014120000020242-2222682110-220220400003626420965236016630181740166162000003340568561800000542701840000896382,15857824680401208048422261,07627,326124420300136640000580182201600000802220006164402601760220200476103621622076003082248281810702122166601706141421,290046288780034460680102761201144784620618882174060292142602006201264428621820265410121180421200108060480010460015616302050038206666824060020722822768-430646816268146014212604088002142041000300254102441667400462502060041080246014500108203800466080029402,496222122021,05223,182558288666474142120001220440101602545402142400640960046000001821200460180260141202006064880188040020363202000201404024060084020200-240040102102410008208060380480046054001623041080104220000000000000000000000000001830082820300184600185600202801636001852012660212802444012320028422164122801422003048021452040180203201830001428000812012200082201658161214200010400034424182668198460000105202036467202244200000020380200022004101904176460442112600000013623184228749860833618172232424-2234812838012-26406043060698429201141612014000000035485321061011004016064076102728848650838216314340000002024801201788124462106217626-247210336500242123285823643860348434250629210178140294414610078498160684366321141012020080-22422156147830227414340666288722064276407702270813220000554444946601166841801264166380498365021266000003641620204281243022001202301231254063656790156105005810048820548132610042140194122363821341060280160000380981004224201240584,444261,72031642524402881706722600257078048780782000114018400000134218622203808606802200460200016422284200360160320220402604626606200007021160920234218802242420440602600008201302240160780780540800194017002190024204205001820174200094221,250874076076010422080640262001402000000000000028050000000014-22200124121822244046001162130820000120240000000000000000226621442623202802842221200418000142160800-22216020220-22-224258000402420165401014210-21002832-44020000226644010-221413652142044004006022004804461020301636220202808860002036100142001014180240260010281656801046650036224080261424244841213040600-204649812608176618104804181142-22188243420104024442014652048164-21242286121206720-40-414581024960142624801,1184222-22465636014640-402872129663644142281584262401,3984,29263012681580226441666010608104684680822220220044-24240100400000040420000-2001,476621,66828416823418136000000400020-22052104166148142211690016158424238181810022036000028121282818216017801081120626240116-6-28-2-20200014044040-200-216022201821404-2022-6102241001400104800001802260300001,186-2639601622616142242244262064002202224604046-220406602002420442400122016220221400420014140028144816260208180062120010140200002042044418220028020226202208010018400400000072-2116220300112161000000122230634200000896181,74635214426466284224442108862829610080464238740696-2210341216-220022245412472227210814048800000140540488024810127618220125821640680288222882601621326011802983616-2344248215268541381061621506-212817038165822481012104086216-234446224202101840000014666020161027821681660000312246410256562146302200-232064126380228885987020000002808812600001,760903,6581,38643060244520148122181,27468,2469224020013400000048021628000002058000206032001100401260560220180800026212078-21084206020201407101042,0500905821,42624605406841401380821444204342001982166060224020058220548860380262013400549410022406020801540240860040220208642048066698654220742002610087618012061806434033004019644-2014134014206062400700354450030210000490642322089000280668016110163000-41160080003,650022,2004721,45604,3921,22844664661210430120005400122224200-2134108-2230500014160200000120000060236003220252050-226340166024040342622424043202008044000001606034034210601440241804106016230038580002212012040116074021100102063222026160902362280420040000000000000000000000056700244430382404604681220040680485600788005812802305006366624482024672244803250032240270130046811406102602432024874402644000281401038001620084118224703802344800681240264217819824000022740648012612606609600000038136000001705026514430062462160400000035823746441,986168664408524-4422646574-2166400200200132044801,222-21,1581704634242000000978650011841920541601080781201,74646641080836638668000000258298162470022818022421822421,0301041062054043761022820681207680316666600-6144646546-213632-22180180001,484452613841222017605014036001664026802408664132146164802862001,76649882188000001,072-4726128421608212226202085621,10466941901200000960306036801466464212265484806241,750-296015020826024-21,0484690136852090405282288644306-4643222240011021521221620207828614,422663,998704821,69034342748970320010220808212423700000108036602000136242022209606402240414086040001722654240013402801080320600640156060015400009024004132036427003440582252216042000013403764580880100018824201320110046804136043026601402204051240001,026103,0961444026601182330020024010603580038-230200000000000102076200000024244423163629624640460217841482400004826020000000000000003048628428224021460104004400101802040222402204014230004682201280217800080224-26508403428821206120012802206182152123222228496104056181002040222212801220-232832642069001812210224224606802012202206261626010-6024022102060140024644086228402436228-20-6-1820262638766016284638760-265024800-2201884864016025414540-829666248320102066240681861486-2-8-620942745940304846801,11258234-2-2249417639444720-60010883868442882548028616242202,4406,57843061041400283428238015001838721260002412204021040013005062420802000000440000002,146461,6843942721981692244202004200202445817012829228812541521680220184216367466100222342216004630282028321623028201124020100482102280244-402201202-23800940102802424342036-4426004010540422842160200220-24021600002420402600862-222,010-329822012624222044242024001022-2024220020024402400442022862044444204060008220200101040281024204-20102142600062046-402-20-22-20161400010400008-2640161460081080244240000200202104-22162212902170141400000242-2512423800002,026142,96832620446021,2188048112-427810670-212848224728094-216816282444423422824664261288101984446162836610026000052094104224032640101943322010178-236448202462418506549648542228-2308051846200884415043021420982306104862823014216-23521481182386182018428829228106844122427210220000032090104427864202-438024240000664281294948203862822332258638143811042756-21,27898620000098417618200002,1701825,00071849260802001040262,8801812,5981787206202424000001886770002000000282144000000028084024604036801340502200900060024011422607802003601821,7981802,18801184782,134024050052428400092074108012640120000172028030140124220240236-216400347486560220001000603800260201041022001402022504141402020020864724682840246213000086660866028-2-6080060180020018-236058381560207200240-210260050-218006600036402,328006168878003,564526190462804168408000146066018624607206322800640700-6012000002801800800260380414022060201010010400604040380200080001801606402-2062000600101602230282228012256160048046021418021204841521020020000000000000000000000000104601241618022440032124001614020440032300207600162802264802034003242142401260264000465600469604618014420303400182200016260102400141203411210203078001082003672014181241560-2000010500262252860236640000002854020001483808308-212826260706200001601322621,034123222900366224424429208012-22402206201460714064611641614000000057623585641100182046030621,152232228042401422400000018603012228006420276-29612-25386148364314619430048-25240446012622037201203603044821201160281609460266564200012601620166074180404818040262602068060201,120861090200000676225036016202010012206818069464263800000480-100028605614022-4240221503621,18604308010241460630030660428036401860154240170028403880064050202600260164,230281,3987816364298842208004301420236324660000760144000001100178024026062052017202800000962144018030048020032034020034032042000076213401300108292011221643241803400008008002603868206604806627601160088030603603601060146400058841,05612540360760640206050045200180600000000000052-456200000060180015601804236-4380054064200000802400000000000000002762611416184000002202402410000102406010014214028184418044600020822216320121822100642040000206582222142650-23628012200016-20800-416234014028022800100400402580038068200200100014418140020042620-221080168022040840044126002-640118148381666-26-10-142232-2404729003444628-4541162458243252124628200-20-243811615022816402983280002304648012-2-202214-22424301830218282,3463,790012124892044680140700214466422010-22206140740346018012000000802000000001,252361,24215462156210852100-200000400-2001052341765061812411681421247438242246882288400281012303810502561667070686-240-236-22-202000020020212-20-20006-202-200-42-204000160121000-4-24-210000000001022002060420598-1066002001222222-206200224200000222420022002420202020420288210100216222666000010062166402264382402160468260400022021000-2268020022210102672128262160-21886200200000-28422122423260128000016023348521,154161,982238180292093620445001321024605812418420650296106116208362814620220884294426818814826-220072401042294101242-221226864-229010410222783214264484283368121362370101804426660180186300192241040210106144-22341412440284228143822210-27283426400266201200000145202448-28702122201236625726882641886817603703424162662334-21,034604200000341146600001,066-83,322496308200020460181,45846,568546202809600000012422260000400001225000000200120460-212600013006201602408200260406001004406022052810661,5560425023808088068821100280180094822021000142224360182606046164806002422170070152401020202800136020048036200166241825200540924282803802000247449281024840402810322000202640-26604020010001202382024284406046170010621400-4462-466-2140029400047042,8440084781,14823,1769482461462642150402200161002182144002447802221802188011008280003402202616022270043806240100182201401420008012038400200002080624088084010260046062602232016102006246580448076086222101403860400220000000000000000000000000014120142418182124002268602203602014002040034840214260028380265600243416240185002226004284064210608018028420222804163600083201830008200147214243260003250022660243686134040000186001832525804266400000204600000120290-28172218836832744000060102148320738841425862002320162170092182100140088038805302784961414144200000414638630076038803405020668041038237202603600000660801401960962441780100202488-2226342208024218234062100324020280256218422-2198011818292056140586249266166-2206624600140066222238430442618100202206060744871474600000458439240490042801062114242510251678000003001000142-213840614002402180362670445496122232804922450601022030201640238280126-2822401400040072120416004320382,864461,916845048882521080001032981540112200020203180000036602660520400282016226520366200038602760124090070088052064098056020201180000216019402940278031602140540124244078000022601860104064020201720118092039622820031205020940740374035400001,95402,406419001500188014803606068024000200360000000000006606000000002404000144023464320700432014262000080240000000000000000230161303438120020040000608002180210828168450481420122780002806103016282220440088006656-2162096382401214410040012026661462688141614421480022221832002814844018040010124018201442234427024200144006404683600-8-12-6480010662621062-142224022-26261420045404422-250162205020348610382220-16-120-24444618221492416006560-2212286666000-210-1818-2814421640616022,1502,7564412441660652621480024802530020422001040058096-2060220000002084000002,590349481924220021243802000040000221610241463024161361421206042440142504236240020144482161904001184210-4406428421424640000100100260204664222866-2801018-2846410610602140000128001210656786640-4350040062420202002000022002-20002222-20024202020442620816021404120000224220612020610204020222008004162060210000026043806804001044800400200208416861426404160000132024034641,05281,482268266266-2672484260216414862122401442214488082013024638204428226666211402102614447010420388612401801687821121216622220101014022981230360462832178816138240221421044722202663413061032962024146020826186621624142040621884570384040150101000000166622204860761762143260504741204001383210130-226010221292223642906686400000520742600001,228-61,616404454-2000018001,556188,5488815607201782000002522380008220200440102000000006058001840002000720200120880056080360100860180442961,246302,114046783800420520461201120100174012612182152415430306020288024125001201640960469600136038140011001804804460112122806802260500502405863400221846012003760381442300013641600320340160200409204220448218281060760160036274-24002900036801,69620201461,13424,8568584501522856174924002102063821850062082041442008449008420000160160018200160520842042402016281206606001003052040000006010420614006061600640141800380614260180105406440124046180620022-250180000000000000000000000000000016220210108018200420422212200101200142602274041214001620014220016400441030212160028420640742242201234082000101000081401410004120206262014400010482222222634721420800001662010305442002446040000018500000007823416132298120840200008060543683982316212610001703049606210020200520102031423144812822000001618241647665806402203000338-4330688176617222000181256070621020521627205210023841081821100724602402640138017486166015640132074200500284036821964680260422360078042122130-2112262248120140346044003621044000281022202401645607802480742203100182360006242006608405622020-20150088282364239080422241242340184524624812086072344822364014622220522042002860603,086782,9103561746421056830400263276138082000058020400000148015202018030010206402260000620154016066060460803802006802209400003801180280176066011805006200062000020012006409402409402202004401740062016602209625602444000252092228809606809804012014401,794001004020000000000100380800000201820542122284018002607802000012022000000000000000025216184328444400200202242002622100142161841862400002021682802121600320222408041683441016406000012423281068806201812480206814002210280000160086122800644032825460001442246001004600-2-367800014-218214212-6-108540-20029800030-24-2200-22150-422000642562200-6-20224-4220-24202380044000266482160-2212-12-1402-4381664-242-29361,74201624721560022562102690021852665404-222002600240304000600000020400000001,296189181862321461384200000000001402626010632142664626294728642005462624000181210284322847842688228200301064-226000044216060822410838428410084104020816012414400100000062088843221,576-21,078046222020000020000000000-20000020000000004000040020-20000040064080000006008002000070540020220000547026181030660000621043668588-47782803081622316781101609682618784483021032446206811416444220812308146401521254221641001816010641160123610222424228262684012822402024414249212226412218448263611410262438202622861434822134222450108106810102161120290324630666220000816248142852521850020802966222024122183896214818481434241742434429000000386483200003,2467,3502,0383,418000000002001880066,0301141520200620000009802260004002002404800000000601200104000102024020403600100100160402404040196584202,556036603020680820601208602001840144406098213803180100261204014360010158015004628809602222011601403803240128268048023824226442060240221664420622760382201344020808002821801008000114014602262020440400142280660600266100126292800424444205,60065021014621,3861264040004002401044241028001014200822004020001401404100102344426422002012020048000000101602000040406100660000000200044044220000010086202200480-240222216863600000000000000000000000000000012040620818401252241280000012160267000616206602224082004000000008480218660622401262284026180200042000001638462220020000101004322644080000103202146300066600000006500000783581400600224100000000001001600-40208000200000000000020200000000000000002026200600-20-20-200-400006200400002-2-2008000000000-20000200000002060000-40000200-2020200002060000000002000000000000220000010000-40040166040416220-20000820000010032400004066026036002184020162200-20000200-20-60000000000000001141343,406461,76239431430082788226800000180340000205800000120262606016010058046000020042080100402014020260160220180000340220160380180160201600080000260300802204018020401206800602401601602802200008602100608080380200078074600000000000000000000000000000000000000000000000000000000000000000000007221862832000000000000000042000200000000000000000000000040000586226140000000000004000004200000000200880200000000010002002202104002000000154520000000-200000000000000000000000000-20000000000000000000000-2000000000000000000000000002727062222076102026380241000000000000000000002000000000000000000001,200141,272478170106141223200000000021642284100148146244068822621041684056020020216620018314204078124104800220000000000000402-2002000000002200040000040000020-4022001,232-258624282000000000000000000000000000000000000000000000000000000023810600000000006883804024000022403238020024330682878100204242124100606464220286520208480121202222001621604221423285262422641644010048842212210016238436274821210186380102120100264602264642402064012044320440000080806086141438024042668220430165026820082609461060000021621600002,3587,8181,5562,462000000000041,50604,9821081700000000000002000000000000000002060000000010000000000000800000200023034822,6600662226406401402561201020240208025412180110018618402001404422056123603444258020001004220178060140114034054030102174241425407207204036074180261407203660418204028034800248200298050028016002244014460112145424250017002201202118026001440022602,5620223006522,2621,1864742341,158138161626081414445021460210821842822152614632280018016000180542864812011648662636080162220102804204028122012000000340163828460000163608200104026108402080380301380426012601002420402821454020000000000000000000000000004486210241018082806421488484000000208203622214141026022442014444020604180242810004215206262104144222181260161202186442122608340400028130844268200020028882127654208040000141302165024540218146040000018720800785183662096368143810000603688806116214211287802302183012040160000000000017202985440602000201362222802032036324220421810200340010401826220-410-2320642685004216036078182000002001422040810420600240166241270842602803218-420203161008-2200200340-258248322-20-40-221220080362422062-4000200170-232092124603010-256010494165221185040010060124298264846102124017850402840344788142670613802688812002420620080180542021022016036802460241103,236321,5569366641402108-21842580000000000000000201803400008012800000160134000140140682108018200004801000320900001020002060240100118000010054010072030014004038000860000200720806206052028050084014600180260040280160124000023007700401840120340001801201,1020000600000000000000000000000000036212641800000200000000000000000000000000078215626381400000012004164086810-220-28282200360004004042-20000040020340202482241487014804016016205220636061044270163810022207024012124810360021602634169400-26003454250130010141626260022224000-24004602600200210520-8024000428020260000000-22102006000227062080000442000802202101618244400000099825001832701780854081496000000000044220002080000000000020000200001,55661,588352116196101661640000000003662341081814148282028080661822601404441600161632222014310200098134630006400200002020200020000000-2020020-200000000-20000002100041202884026014178002000000200020004400000000002004000000000000600000000040040002961040040000000448221160306200000662611222007381461,156663521245341204612340142442821241623234848114220212284408094813023010280424226101421024344941896201286094142740106322116305628180161420681018221048632466222644622230101008800461822010024206428260000001082026016227210900820270482161411426124381381217828832520332385540000001846800002,918-212,4721,1584,2300-20020000021,0461210,88027279800000000000000000000000000000080600680000040010000000001802600000400014855044,2700902840848802228034016224002040270301601760246565800340442405814721670303801827601129412017604422015002004605624221444220380640120262300106480329009422100512106636431620246614-4027226801802200628000180460118210080242400013003612941012622600012400037602,8500-2362706501,6501,272542941,0269448221602301241040228802614623614225015261084028834030000400708181264422232122258610508100206164822050046078460164024000010050216548184282182183604108420646161288183641006047415401838021002424624107443615686000000000000000000000000000003412821022263222640267227084286622472002878058382214267601048940266420341466182244823470266628246642780141840436306682004128406266442062641638244200-218683815404461402122450218128112264060000241562187072188108363204180000301560400144422220609228103814400034215414496101,070254289882382231245080166616466166000028012024420306106101048000080480-22721241214203642660040608664-2418142365080222124200016-814007040223401044816210010214231441561207419021888426584244833202701284226202061443228690422102050427002304160100004211001020158-272881420002246626864644240248242512-46123488800038265404101925288038164140014223242046404282064800186420168202020863202220308011652406322404138144826860440236011626164848825402401903016029660122028268052361016206214166-2446,454121,0721,1767581060304226278360000001202302805004602605022058000016021400000940214012050028017801440252000070010002207402010601202003405202207400001601080800118074011422205406014600003407403006204602200600940100022000220212012036036017220003940988216018207807001001401001940010012020000000000180480800000120286888026410308028003802344160000804204000000000000001282150423840001600058802020824002-60-2020401800014210216000-20-200080140802000000000410-40002-4000180600-241,31840101458100102814000142208858123220502652285048501404008224024010322682448203000203436580014804260070136422616288242101,2141160441219600222144448818-2161248016026029800-4360203624223865000249814600102-2-200244427601634312001070030501381024-20201008410856660016022,04032408364612601610001661481002200240562000400000080802000000082427542942621462112-2200000000022324819011614209230242-4100114502230060102284000121618416482601460148142163600182666200000646628040422448212024402420042622220060000-2206044-21606408-4-205404160142000024202104222200200202821202180026300080000014000200016200004600260460021083460018022202258194921028544-6000076270741446042,8048041381425384381462401006101038166-24222349212042226228428102103024-6320236384149816048816418138320181302662419630822021844202220140302346287631452160204010128361026704825019040121615830441221622614321429805081341612114480000004010216426044202348188088010642412076248828452643210-2166072028214600000488842600001,96612,8682,0782,118200200000063,47649,068392736022032104000056012220600000608000000000000000000000000000000000000000000434102,8760264125702456012844261886220016001443034415232166384700160463218542422205810232217686226012213616442626102032486043610421224838832722866723824481801410807628125030206630421680182440254881786482203200724182014302832348621438467001660130106132180064861801328680015492002,68202,076201141764,9242,3461,1947563621,0462008801800188014440666221082182228720210244901228000160442146083813081894223801801622862016340262500321240000006026214320101806200638428200108466244224802207210600380114216520840254174-2200000000000000000000000000269802018226241840024623840343801860003286036282002762438102614820030701422014542143042343040248280220832036230083822610400263601246028384816601262429640169620444442415090220220000261222207230168203621224000032860200804042,014092805981240002244045870122,28643947381861,000218026276718214074182022152061241,736420056418200000004,0164206544706022662140167482,7340314116523,29801587226001046626542049060601681,414276601,224618614870678012684501621438161,1340218174288320160180161,7587220181,74423810002,8102220721826020870201618-250626810222702023076602922814-21020543061,748654035816400026142,540024892489340221623362882448402,374437218444-2012221340222008640561462226-23,54681323614004,0761036676181841858101,542625413626921044147624902144854010120100880028288038406462266889823613,472121,20285487290202223294616600000047000212320076011601003434030000580116000016012002022034012809201462007201000003406048080140300320160540003024604401180540108030036045800220460300220609401405006001060012012801402603801080002320652280840120560202401580200002001804000000000024060020000042446411221466161002000340150-2120000140260000000000000000128419234360000400240182-212603218620880202101424004822141200002018-2624441802020102-21020102000082020414266-20321542244150248084104200054480554323883626926506106185200060662630401088202664-214204220101103400360403823240324520022220106408943400-256292002486901022636243410808201830200470048520602661614608401781012026200200684429041444463200108025024148424200212822020129418112-4140141,83853801610569200183862163210410102380740212020-28006020204000001,4480642104601,55621580400012401768824229416260705046142043254180400628082627888088464180032-28020004000010202-22-26-2-24000000422004040-20000280-206-2120020590-2176022002421583604824250044416414218414544140262002648207801402414102164429620620401200004060-2846440800610-2-20064288006024040122346007252409414-2102116562270261480000118160684485401,6881,05458224068829219854014032322468124030566874628161521564242262261030502622128016468644640101612326884112868656142442684-212666821380302947264264186013658361662464686-218121442130284646122522660904634132200461041329442521618188148036219817068120305000002020218262664152132223833205181188870188118561662244060243812202960652382314000005260182400003,5865,2803,2482,040002020067,59046,136440690026054121000002020256028460002401820000000000000000000000000000000000000000066601,5540674845678690401416428128141182824381085613032354016142614838812842281803213266092124661042281210001643618126189630162632706581462830723604708501624822840462634166102141602748217054321438120053022204162040726614163460902130216610018162010068140881621400001208000005,29802,128007981982,7961,9324765643506388600038184401002426028410620244220142201088412004026422482508641044-20162160120302800304012034064100200000120140144201220082621626008180182001454226380203208098027609841228210400108158212140000000000000000000000000016340122070462103040501381022632212562030502521746210380022702387800301001216214362246420681942268218226222561544303803876001644010424-210304415020582276802810400604822810814417082000048112232625814082461840-200003468000016429412343,9080682621,818201200010105280704622,7062254608542,5300102116462,7241015619404022-22780210-25,610021280840400000006,052011264102,3480422676802224-25,610-2302104125,1260112486001262,3200642202,12025038182,6020461603,5004118270-21,28401207420686166063,8660212116343,034013488324,9665826102,228022406,266015084181264601,88622621,74007611221,90001701321644081042820181846,17423824664600036288,3702242118282,7940142-24280401502207,18842561402200018523400422-2003,076066124872264,656612642626011,98622168810578163823,36222249828304144061,180058224162,35806472102264221,032030168188261,356802626,286221,6205668463,170021002028818065600346300224628362623408001601450030000144010000001609000016040720130016800046096012038010026010024014056048038000240760340380300900180200204200028050010050020072040460240110008009603604401020880003880604060680603800016017402420022016000000000000700360200000500606424602921265403600704202280000180240200000000000000374611612260006422442082214160000120000441212041016482238000018040412814-20606014-60144020460140401003024416628134298840281,2366820010205200244268361821,6601541961017632206303803028658190280832071832644056358682161240668861085094052810-229662500662661002,37464200743016258341641,13015002442460022427208-2302454104-202630214002620126324284611401041728800460-42-2023416312-2830188632001878-2-238141728400003624382-2-2246084414061,2744680146486005640821870660101200620848212018004400808400200001,59025249212662641444020206417480301626042260112566622142666234000036222210340103667414412416100048200200020222204002-244040000066000012-400400000220200282001,348-421200122268626040214202036221214216246203022222226064300322201608664043002200-22222620002004-200-2004020000221008000000224010200200166146001248608214648168842168000012026846581,01242,798664748434752252276136015036182456202124861826417820241762544034183441036481626178227654424258410388018281922005240681684224112226042681620370824642564161062045460248-2368362822618101222083244441642042501523050140220707618428048443244101423425162301447219436460000207410856826162342101826510483813416610617860941723465628243616835027442682240000082132182200003,6006,6901,62630602000000616,7267,2463444042292620008002061012260040042000000000000000000000000000000000000001,04821,48200872247607067209430388434148615224245214218228238003624523014462028100262043215826214012101080342234122028646224018084242422425820662246242240540402664208816242638601162432180101048603017401364221022001124200-232074412821849613833401016470006130121704420000221600001,86603,750422842948442,594522410100948421414021680232086203613266303620121206482120018680121221088212440260401802044016162482200407602000080300628218100020020162241606306205201014062342401062652216228324830020404210040062202000000000000000000020000000224420632244802848201812640142200164840146803612410410604032520285822161220852012380163840461284058981042280141104-212382129060104000442002444018840836034742022886024800208208221220000010522018520461164042172060000146200000622308187040176342122221620020532013872421,834640639052852037672261,68822061200166217403212-21,5302254961810222000001,6482324116264082018142140181621,3560700140221,024051814026-20-40646811426079621565685680781003,41243442202540642218630544405881,6160492202181,6344147001,31012832436466842001,480038822818442015218421,23201548841,6220324248101822814688072846,17621,09657660000003,146064222024428681803720112662400002,622147423782400004560820348401,3880685083220932102806041664146,128641612812130262041,5102542296282586648489401489028661214076013622-2676050321462404201360611,23622,1148802982,2822250016216304601802204620000422386604832448-24824828015000018037800002423260406801401904762476000382362080104060622405401001380380134000180184042032201402900180108061244001602162001440100152040164054041800140410210094012045000023202,77024801326140108000801160638201602000000000000068086200000050011662226239214616052007802184000008044000000000000000021681883418028200016224461224106012102-22040200414432010-272016415400001802682643202-20104-4244365000205206142001263222020446948196721065618420381202820681202366242321038801828110821896889241612102249408616422616422204624588411416236210211641464405826623846108822242146840-414476002221012028046-46-2102020281454800014424227620440624210643812150262020002602865004481621,1360022060-47843104900024448016017616256-25208482856614183211202084040940402803206212012000040004000640000644169321241368218166067646252102162213058542565052286-24610238460050141441021626415298116423600246-210604200002076-20022210-20120220002342014622180800-21800000018242160112061,782-268020264127220000482002282001808220222824010208160202484200142002-227942221408104622634001810202002000040200600101240000006220-22400002216240048081012967834362646223400001321188654984101,354366366278370194184138010262743838265412612183892203611418654102161862824341610120158801123662183222521032208118521625414646122841046296126219888166306283460-28056561200234581762181612104904284286446642662440861208815211414446941058101017225010810460100647000001420142232521810782085684436502110112329454381361908413628321032300324136178000004470506000003,0448,0161,7901,2284908000220004,2188,490238238122608800062047201604006072004000000000000000000000000000000000059282,636401,176141,13828242621224821413210861210126101244225801268361210222240420062162681246412483422101000163464612294161843862146410622865012420384666810226340064161416096106-20501482613243624000442422304468922128989840401416665400241222216681200001813000006083,61409816039401,582384585025342222000121402380122840361202614522010407422100022404828288666402420403428280852208140169062000020180634066046022000612081006118006142401421414403212062034041201246-4341286222264146000000000000000000000000002220022044841224021474821236404364020500149646624601426210402087206620168201042002256402052020162144460812285400612402100283402068082201248222078221458210360521626400001026401044-220648010904600001250000020178882800186424423230000-202500128628872242231248316394282146216434068074502006740284922842-2000266200356116106246102340108938-4740664324054690-200-2-2262211428-229624858417601161405206346102228803661381852401604820420284963421643501983809084816-226-2-281443619812860108361011201543404762432118-44838100286018276401,14816680000-2620628162286722201082982026800702167202060000072226610800154056444-680328424260-250441,33614698126123810282512052422420167042258120384982136120426058702808206664222,142381,2006701762080142861441442402224460104128222222018238420301009000060216000060154020340806221402380001401480604000046020140202406082000408006012200072040480020000806800026020880602806014200601360203206015400036094200203204058020606003260020200000000000020030000000080482066416060180120014011220000010024000000000000000096121946020400021681014020618810180-200002634062140646600000202200800200-20-210122148100422000016440-20262028874463260616220400281002128144601830863064644125406220182864901082000102016142434801085204414014830012460020-222721360-4084980005441580607046-216002141651600218824805822510037022443821960800000-20808706030261,252004230009404122500048-211038-221863382620261869706614241280206224814002001420160244-22022420040200002000380047813816432624200040220361864218181081014-205220461210022302000002212828221128878288740116-4824200200424022201006-20144820021820160-24260102000024642040284276-21,03660484846210004004022602244220222212280668100220022012220584022600080600220018026-21224000402020160060284-212168000208226222670214006804344012161834223400001021525692694071852869018431474946006083426303432268863844123074102507616186820221068610246602844814563614221221225458829250106541002458568246462634122820052121286014010212424446876284228664028306228288088647086983490488101021846058504650700000142212102242142664100329226421215028234666458116142621601820481902486858000002240203600003,2322,3422,20486682220480808241,1745,26613672811212200014017002200000260000210834341120549216461626482650836261850661620882183294302161,5182039664724430542058201408224201064118002500206321242883222080166309020080238168940204034121081220425808432125086642108612263302281201321062602215428784302220046286084342262081052116360022106848018134321081822000028116200047622,716210042698442,37460043694380468120414265626362020210160444204120564080065401022012520654-22160804400440104200620018704000008212084224200022042820280418265620412040160169604014600300-21801062204241002283882040000000000000000000000000024200616826042880206640616208202014460107240820204300642406320220443204162214706064660428014304062221056206166023640102002264022001230001440201446023863213422000010402045801890021842000000056600026246616226215826426444000-201702186506834-2640278181643203641062132120100238366054603161086442000004884081404885080321044342508482348246420200-2011210810017013832-2144215418431225240-4218636254102440202263083029016860258162200826668218016672530122842250200560108160298-2300664208603062806060836114600000444514582601148106011024416200600267084200001620620260164082364620244025044036241,0186508140125620004844538140824302025014024016610248102042901828-20-2192172125,252121,36498012272010368-22045418016040644841046284564222026052-636806800010018400003001460203802062022030000012011602028000340201404030040480000014608011802080080340434000805802012000500203602010600409602046080166000520912002062040680208074028200401600000000000022014200000040260056013000140160022060000000208000000000000000068814016228200816042040442-2420032-2480280862045006411400024302108161200226046341268012256602448024056020202181,506528236122041400040016806881241421430121222832441440284201622402092606014000630464210165625226214234020302241229218400-8247340003681744140640-261640032104220021200300463249803161443680148-246000020114145720424695600162102098103820480042-611030426862160520328862,5562503042208041342414144240200018024222010028000608024400001,08421,010256196282720402012042118104201876346008450402404060120400144601001211610050721432009804000002018028-22224212210-284202202010008042260-2000-202-202560402704-65024016223810020020820266002220042620-24424000-2021220302618026-22202800806200240200616042100-2220-200-2362242002008201061880088029800014018361568416401410000070164703459801,032932272114456965416011812820401646241040441003222761269422430441640603016630128221681458101672132222644126422020166241838140463034763061822062212760178841836423617456141872221232824884812226185019042184121641203948428281483216000010508418341245613860241802102381182817858410819694346368414859211436000001080241600002,3104,1721,7661645210004414012000781,7966,08666800746400028014404000060260022208242642620709422504301410241844121616142121620426840122182478805162344523292301842621617610200170228400429802016042162642034028022027212240182841421020268010610146281224458210042221061624480142161825342321642320148612024224729214546360011240602085014768221498122482048981434034142521164424000048124000068203,8061786441,456-22,3841,2908008822902463002830868143424602364624786062401428440001876010600261660147261216240543032020662063003810044200040460128814546242346806818822618118006200005062198064238818580102208417824212620204241254662228101040000000000000004000000000026584214501664018620046128621452001840402611205813602848022474214860026108643206622123800461782042168281254230660014460181002016344012200012800501280104002811222189024321162106607436220000026100202876024194104361482000003013800000764588564042430564764016000-203404485081,6162958230323946744643124264304124278541001,13201,02024812404100000095690010641569414252281497201,194504486073430200001821908031630842231232632444852634447605141465466160458480382168418286292252220168154120520101,3901,106848122983061520254200588269634-211262100741102061,09021,6161146000008929841102164128028421883443466080041,52412212000836460281260304020246-222100468049244062241,86801,184190896806071241,09278826726461422840022622861080011617422414620352544109,444105,2861,47220098021,17662,11039630012402016205021202367820722280-2141022001360001802880000380252060400140124062048000030024601404208078260400-206806098000140216038031008016002078084400014015604038018012808092080274006022604064038033800017601,7060014014406019002020016406400014018200000000000320542000000406604110-223862200420032012800000014040000000000000000068182462426600208022821412404-2-2-2672460-443405002220210180422221600-84-24114212230460-202030222120-414326026268-21204781244241560640-230583,90611828292116101018241240000483802216418241420822636462388030264418244185426854212144430240164244624162420052124222214462072212101461186020221240600248-8182224-230-4-40124022445200086388300206104218601662142-4300-4-60-208818396032569340041140-45812300-242-4-205022436617012142-2320102,1543,356204038198028621610846-204400400566060102220060160221020000620121,16827628470266821410830011021041286214819216001381244652663817032121600203420141020161903841042887211600222-21660222001856-24400280140200182-200254-22226212-20120-28000016212014296-201001,058-29440038018046222-20082042402224000-2026420242024222804020528502200262000060622210404000046120100200000000001814-2-22-200014002842030014000254009220028444763210000016245676421,18802,0705902523081,148194388602525216441121883056180962048840196028413030860104366616812629280144411616228122502116322661092246661068298782810442011824441042063424624122042534904867812490270521848220380442463820100216762894376823012361416210524138445222462140000165816103072381014830290384686762841308634842202224341323416661623841,044188460000066226621400004,3405,2101,472144200041620220122,2467,266118134381705820000138437226000028070004666303036136052156343683610162858122281022884161638612881626650281,08201,1486494028032048080500220940940864106012002204012030120366018212401060505012066242846400040060407428120300500520380280424016664442602040401801200900-2044964628426238001041580862620484182428100182066362412016110843860600002652000072822,078941123641,4723362363626828010184201014223676001438204607000000124441208540122004801408822014200104026362200006040826614084142028412014420101402242258228724-2228082203690-4280002412120-2418000000000002000000000000002380041410260822001448406104042000856018602061020103002228200340212010200224003668201884408401628000160640006160018160041802262010340454002486010540102204613620000081200142621056201448000000822000048178463147220230124000-40194116164874298826234174262180240160182054-4607462288190108242000069221028814634802626-2988036026243201880000001644210024411414221248843242120240180190403218605341484-2112782027862102164268030-4477420044412-210228296022182308012422286124202832-2470849650000006123842641021821381664240825462248400000836-201446024807014216003980786036201,1462202641454424044227028018184037244140202702162007676100164009017023,67621,7362384432627405642000034010242088120100020400100001408400014019000006024804078040140020033400016021002030060680202004072010014600012014401402080140148000520268000601340207008015000062012020400001580205602402300006601,208006013826090000120920280002010000000000000160342000000220180066410400160800240724000002-2260000000000000000368761004200600040220-4-207004200602427004107801612166001622822006036064242121623601213804414140200042801206803410-20388281021201002214004024434306418210026014123063603420381022-22446729036223200168201412764032724078202180308181601022724240004980002401420104-441400-4134000126060496220668603401802402018484-20121232400-238230-23201200010-42010218044-2120029068000000010001694000254002664200000642400260-2601200200204200200002662764701638662402026442158801212110241800200642046267664142200684224230290156178803492203004200000420602420002202010-240200018-2000020404000062422022-240444-41860020022221642000400202000222040002602020400200-402022-2002460682000000072-22-22002200422000012040504-20-246-200000004674242185064000078152301249421,396240721384126016446464165018214160600006214034129020422881864121462741442812146242287210258114102281322004284102441842-2122840281008474194141610102388841026106240241041884613828648941461042668021658303294-24000002022306216210819418101903206658181064490172401010428016434242120000038740400005421,73229836000-244001,2521,964303290184885000068018800000000202300062242616120014210020204202002822040004222401626588024612300'"
      ]
     },
     "execution_count": 18,
     "metadata": {},
     "output_type": "execute_result"
    }
   ],
   "source": [
    "v3_sum=drop3[\"Units\"].sum()\n",
    "v3_sum"
   ]
  },
  {
   "cell_type": "code",
   "execution_count": null,
   "metadata": {},
   "outputs": [],
   "source": []
  }
 ],
 "metadata": {
  "anaconda-cloud": {},
  "kernelspec": {
   "display_name": "Python [conda env:PythonData] *",
   "language": "python",
   "name": "conda-env-PythonData-py"
  },
  "language_info": {
   "codemirror_mode": {
    "name": "ipython",
    "version": 3
   },
   "file_extension": ".py",
   "mimetype": "text/x-python",
   "name": "python",
   "nbconvert_exporter": "python",
   "pygments_lexer": "ipython3",
   "version": "3.6.10"
  }
 },
 "nbformat": 4,
 "nbformat_minor": 2
}
