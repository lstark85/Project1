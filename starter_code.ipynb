{
 "cells": [
  {
   "cell_type": "code",
   "execution_count": 1,
   "metadata": {},
   "outputs": [],
   "source": [
    "import matplotlib.pyplot as plt\n",
    "import pandas as pd\n",
    "import scipy.stats as st\n",
    "import numpy as np\n",
    "from sklearn.linear_model import LinearRegression\n",
    "import numpy as np\n",
    "import json\n",
    "\n",
    "\n",
<<<<<<< HEAD
    "data_path = \"NPD_Data_2018_2019_V3.csv\"\n",
=======
    "data_path = \"data/NPD_Data_2018_2019_V3.csv\"\n",
>>>>>>> stark
    "npd_data = pd.read_csv(data_path)"
   ]
  },
  {
   "cell_type": "code",
   "execution_count": 2,
   "metadata": {},
   "outputs": [],
   "source": [
    "clean_data = npd_data.dropna()\n"
   ]
  },
  {
   "cell_type": "markdown",
   "metadata": {},
   "source": [
    "API Call"
   ]
  },
  {
<<<<<<< Updated upstream
   "cell_type": "code",
<<<<<<< HEAD
   "execution_count": null,
   "metadata": {},
   "outputs": [],
   "source": []
  },
  {
   "cell_type": "code",
   "execution_count": null,
   "metadata": {},
   "outputs": [],
   "source": []
  },
  {
   "cell_type": "code",
   "execution_count": null,
   "metadata": {},
   "outputs": [],
   "source": []
  },
  {
   "cell_type": "code",
   "execution_count": null,
   "metadata": {},
   "outputs": [],
   "source": []
  },
  {
=======
>>>>>>> Stashed changes
   "cell_type": "code",
   "execution_count": null,
   "metadata": {},
   "outputs": [],
   "source": []
  },
  {
   "cell_type": "code",
   "execution_count": null,
   "metadata": {},
   "outputs": [],
   "source": []
=======
   "execution_count": 3,
   "metadata": {},
   "outputs": [],
   "source": [
    "import requests\n",
    "import json\n",
    "\n",
    "# Google API Key\n",
    "from api_key import api"
   ]
  },
  {
   "cell_type": "code",
   "execution_count": 4,
   "metadata": {},
   "outputs": [
    {
     "name": "stdout",
     "output_type": "stream",
     "text": [
      "Sheep Camp\n",
      "Shasta, CA 96087, United States\n",
      "Peltier Bridge Campground\n",
      "14412 Kennedy Memorial Dr, Whiskeytown, CA 96095, United States\n",
      "Mountain Gate RV Park and Cottages\n",
      "14161 Holiday Rd, Redding, CA 96003, United States\n",
      "Chappie-Shasta Off-Highway Vehicle Area\n",
      "Redding, CA 96001, United States\n",
      "Redding RV Park\n",
      "11075 Campers Ct, Redding, CA 96003, United States\n"
     ]
    }
   ],
   "source": [
    "my_phrase = \"Campgrounds near Shasta, CA\"\n",
    "target_url = \"https://maps.googleapis.com/maps/api/place/textsearch/json\"\n",
    "\n",
    "params = {\n",
    "    \"query\": my_phrase,\n",
    "    \"key\": api\n",
    "}\n",
    "\n",
    "response = requests.get(target_url, params)\n",
    "\n",
    "# print(response.url)\n",
    "waterfalls = response.json()\n",
    "# print(json.dumps(happy_places, indent=4, sort_keys=True))\n",
    "\n",
    "counter = 0\n",
    "try:\n",
    "    for place in waterfalls[\"results\"]:\n",
    "        print(place[\"name\"])\n",
    "        print(place[\"formatted_address\"])\n",
    "        counter += 1\n",
    "        if counter == 5:\n",
    "            break\n",
    "except KeyError as name:\n",
    "    print(\"Skipping\")"
   ]
>>>>>>> stark
  },
  {
   "cell_type": "code",
   "execution_count": null,
   "metadata": {},
   "outputs": [],
   "source": []
  },
  {
   "cell_type": "code",
   "execution_count": null,
   "metadata": {},
   "outputs": [],
   "source": []
  },
  {
   "cell_type": "code",
   "execution_count": null,
   "metadata": {},
   "outputs": [],
   "source": []
  }
 ],
 "metadata": {
  "anaconda-cloud": {},
  "kernelspec": {
   "display_name": "Python [conda env:PythonData] *",
   "language": "python",
   "name": "conda-env-PythonData-py"
  },
  "language_info": {
   "codemirror_mode": {
    "name": "ipython",
    "version": 3
   },
   "file_extension": ".py",
   "mimetype": "text/x-python",
   "name": "python",
   "nbconvert_exporter": "python",
   "pygments_lexer": "ipython3",
   "version": "3.6.10"
  }
 },
 "nbformat": 4,
 "nbformat_minor": 2
}
