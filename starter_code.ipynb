{
 "cells": [
  {
   "cell_type": "code",
   "execution_count": null,
   "metadata": {},
   "outputs": [],
   "source": [
    "import matplotlib.pyplot as plt\n",
    "import pandas as pd\n",
    "import scipy.stats as st\n",
    "import numpy as np\n",
    "from sklearn.linear_model import LinearRegression\n",
    "import numpy as np\n",
    "import json\n",
    "\n",
    "\n",
    "data_path = \"data/NPD_Data_2018_2019_V3.csv\"\n",
    "npd_data = pd.read_csv(data_path)"
   ]
  },
  {
   "cell_type": "code",
   "execution_count": null,
   "metadata": {},
   "outputs": [],
   "source": [
    "clean_data = npd_data.dropna()\n"
   ]
  },
  {
   "cell_type": "markdown",
   "metadata": {},
   "source": [
    "API Call"
   ]
  },
  {
   "cell_type": "code",
   "execution_count": null,
   "metadata": {},
   "outputs": [],
   "source": [
    "import requests\n",
    "import json\n",
    "\n",
    "# Google API Key\n",
    "from api_key import api"
   ]
  },
  {
   "cell_type": "code",
   "execution_count": null,
   "metadata": {},
   "outputs": [],
   "source": [
    "my_phrase = \"Campgrounds near Shasta, CA\"\n",
    "target_url = \"https://maps.googleapis.com/maps/api/place/textsearch/json\"\n",
    "\n",
    "params = {\n",
    "    \"query\": my_phrase,\n",
    "    \"key\": api\n",
    "}\n",
    "\n",
    "response = requests.get(target_url, params)\n",
    "\n",
    "# print(response.url)\n",
    "camps = response.json()\n",
    "# print(json.dumps(camps, indent=4, sort_keys=True))\n",
    "\n",
    "counter = 0\n",
    "try:\n",
    "    for place in camps[\"results\"]:\n",
    "        print(place[\"name\"])\n",
    "        print(place[\"formatted_address\"])\n",
    "        counter += 1\n",
    "        if counter == 5:\n",
    "            break\n",
    "except KeyError as name:\n",
    "    print(\"Skipping\")"
   ]
  },
  {
   "cell_type": "markdown",
   "metadata": {},
   "source": [
    "Purchase Method Graph"
   ]
  },
  {
   "cell_type": "code",
   "execution_count": null,
   "metadata": {},
   "outputs": [],
   "source": [
    "nineteen = clean_data[clean_data[\"Year\"]==2019]\n",
    "twenty = clean_data[clean_data[\"Year\"]==2020]\n",
    "\n",
    "nineteen_clothes = nineteen[(nineteen['Category'] == 'PANT/CAPRI') | (nineteen['Category'] == 'JACKET/VEST')]\n",
    "twenty_clothes = twenty[(twenty['Category'] == 'PANT/CAPRI') | (twenty['Category'] == 'JACKET/VEST')]\n",
    "\n",
    "nineteen_clothes['TY AUR'] = nineteen_clothes['TY AUR'].astype(float)\n",
    "twenty_clothes['TY AUR'] = twenty_clothes['TY AUR'].astype(float)\n",
    "\n",
    "nineteen_stores = round(nineteen_clothes.groupby(['StoreType']).mean(),2)\n",
    "twenty_stores = round(twenty_clothes.groupby(['StoreType']).mean(),2)\n",
    "\n",
    "store_type_aur = pd.concat([nineteen_stores, twenty_stores])\n",
    "\n",
    "labels = ['B&M', 'ECOMMERCE', 'OUTLET']\n",
    "x = np.arange(len(labels))\n",
    "width = 0.35 \n",
    "fig, ax = plt.subplots()\n",
    "rects1 = ax.bar(x - width/2, nineteen_stores[\"TY AUR\"], width, label='2019')\n",
    "rects2 = ax.bar(x + width/2, twenty_stores[\"TY AUR\"], width, label='2020')\n",
    "\n",
    "\n",
    "ax.set_title('AUR 2019 VS 2020')\n",
    "ax.set_ylabel('AVERAGE PRICE ($)')\n",
    "ax.set_xlabel('STORE TYPE')\n",
    "ax.set_xticks(x)\n",
    "ax.set_xticklabels(labels)\n",
    "ax.legend()\n",
    "pd.set_option('mode.chained_assignment', None)\n",
    "fig.tight_layout()\n",
    "plt.savefig(\"Graphs/Purchase_Method\")\n",
    "plt.show()"
   ]
  },
  {
   "cell_type": "markdown",
   "metadata": {},
   "source": [
    "Clothes Graph"
   ]
  },
  {
   "cell_type": "code",
   "execution_count": null,
   "metadata": {},
   "outputs": [],
   "source": [
    "nineteen_clothes['Units'] = nineteen_clothes['Units'].str.replace(',', '').astype(float)\n",
    "twenty_clothes['Units'] = twenty_clothes['Units'].str.replace(',', '').astype(float)\n",
    "\n",
    "a = nineteen_clothes.groupby(['Month'],sort = False).sum()\n",
    "b = twenty_clothes.groupby(['Month'], sort = False).sum()\n",
    "\n",
    "plt.plot(a[\"Units\"],color=\"blue\")\n",
    "plt.plot(b[\"Units\"],color=\"orange\")\n",
    "\n",
    "pd.set_option('mode.chained_assignment', None)\n",
    "plt.title(\"YoY APPAREL SALES\")\n",
    "plt.xlabel(\"MONTHS\")\n",
    "plt.ylabel(\"UNITS\")\n",
    "plt.legend([\"2019\",\"2020\"])\n",
    "plt.savefig(\"Graphs/clothes_sales\")\n",
    "plt.show()"
   ]
  },
  {
   "cell_type": "markdown",
   "metadata": {},
   "source": [
    "Daypack Graphs"
   ]
  },
  {
   "cell_type": "code",
   "execution_count": null,
   "metadata": {},
   "outputs": [],
   "source": [
    "df1 = df[df['Category']=='DAYPACK']\\\n",
    "    .reset_index()\\\n",
    "    .copy()\n",
    "df1 = df1\\\n",
    "    .drop(columns='TY AUR')\\\n",
    "    .assign(**{'Month': pd.to_datetime(df1['Month']),\n",
    "              'Units': df1['Units'].str.replace('(','-').str.replace(')','').str.replace(',','').astype(int).fillna(0)})\n",
    "df1"
   ]
  },
  {
   "cell_type": "code",
   "execution_count": null,
   "metadata": {},
   "outputs": [],
   "source": [
    "df2 = df1.groupby(['StoreType','Month']).agg({'Units':'sum'}).reset_index()\n",
    "fig, ax = plt.subplots(1, 1, figsize=(12, 6))\n",
    "for storetype in df2['StoreType'].unique().tolist():\n",
    "    # storetype = 'ECOMMERCE'\n",
    "    df3 = df2[(df2['StoreType']==storetype) & (df2['Month']>='2019-02-01') & (df2['Month']<'2020-12-31')].copy().reset_index()\n",
    "    ax.plot(df3['Month'], df3['Units'], label=storetype)\n",
    "ax.legend()\n",
    "ax.set_yscale('log')\n",
    "ax.set_xlabel('Time')\n",
    "ax.set_ylabel('Units')\n",
    "ax.set_title('Daypack Units for different StoreType From 2019-01 to 2020-12')\n",
    "plt.savefig(\"Graphs/daypack_sales_by\")"
   ]
  },
  {
   "cell_type": "code",
   "execution_count": null,
   "metadata": {},
   "outputs": [],
   "source": [
    "df1['Year'] = df1['Month'].astype(str).str[:4]\n",
    "df1.head()\n",
    "df1['Month1'] = df1['Month'].astype(str).str[5:7]\n",
    "df1['Month2'] = df1['Month'].apply(lambda x: x.strftime('%b'))\n",
    "df1.head()"
   ]
  },
  {
   "cell_type": "code",
   "execution_count": null,
   "metadata": {},
   "outputs": [],
   "source": [
    "df4_2019 = df1[(df1['Month']>='2019-01-01') & (df1['Month']<'2021-01-01')]\\\n",
    "            .sort_values(['Year','Month1','Month2'])\\\n",
    "            .groupby(['Year','Month1','Month2'], sort=False)\\\n",
    "                .agg({'Units': 'sum'})\\\n",
    "                .reset_index()\n",
    "df4_2019['Month1'] = df4_2019['Month1'].astype(int).apply(lambda x: (x + 10) % 12)\n",
    "df4_2019 = df4_2019.sort_values(['Year', 'Month1']).reset_index(drop=True)\n",
    "\n",
    "labels = df4_2019[df4_2019['Year']=='2019']['Month2'].tolist()\n",
    "df_19 = df4_2019[df4_2019['Year']=='2019']['Units'].tolist()\n",
    "df_20 = df4_2019[df4_2019['Year']=='2020']['Units'].tolist()"
   ]
  },
  {
   "cell_type": "code",
   "execution_count": null,
   "metadata": {},
   "outputs": [],
   "source": [
    "x = np.arange(len(labels))  # the label locations\n",
    "width = 0.35  # the width of the bars\n",
    "\n",
    "fig, ax = plt.subplots()\n",
    "rects1 = ax.bar(x - width/2, df_19, width, label='2019')\n",
    "rects2 = ax.bar(x + width/2, df_20, width, label='2020')\n",
    "\n",
    "# Add some text for labels, title and custom x-axis tick labels, etc.\n",
    "ax.set_ylabel('Units')\n",
    "ax.set_title('2019 VS 2020 Daypack Units comparison')\n",
    "ax.set_xticks(x)\n",
    "ax.set_xticklabels(labels)\n",
    "ax.legend()\n",
    "\n",
    "\n",
    "fig.tight_layout()\n",
    "plt.savefig(\"Graphs/daypack_units_year\")\n",
    "plt.show()"
   ]
  },
  {
   "cell_type": "markdown",
   "metadata": {},
   "source": [
    "Camping Gear Graph"
   ]
  },
  {
   "cell_type": "code",
   "execution_count": null,
   "metadata": {},
   "outputs": [],
   "source": [
    "purchase_data_df = pd.DataFrame(npd_data)\n",
    "#Remove commas from the numbers\n",
    "npd_data['Units'] = npd_data['Units'].replace(',','', regex=True)\n",
    "\n",
    "#Convert the Units column as int\n",
    "npd_data['Units'] = npd_data['Units'].astype(float)\n",
    "purchase_data_df.describe()"
   ]
  },
  {
   "cell_type": "code",
   "execution_count": null,
   "metadata": {},
   "outputs": [],
   "source": [
    "camping_gear = purchase_data_df[['Month','Category','Units']]\n",
    "camping_gear.head()"
   ]
  },
  {
   "cell_type": "code",
   "execution_count": null,
   "metadata": {},
   "outputs": [],
   "source": [
    "months = purchase_data_df.groupby('Month')\n",
    "months.size()"
   ]
  },
  {
   "cell_type": "code",
   "execution_count": null,
   "metadata": {},
   "outputs": [],
   "source": [
    "retail = months.sum()\n",
    "data_points = purchase_data_df.groupby([\"Year\",\"Month\"]).count()[\"Category\"]\n",
    "\n",
    "data_points.unstack(0).plot(kind=\"bar\", color=['blue','orange'])\n",
    "plt.title(\"Total Units Sold by Month\")\n",
    "plt.ylabel(\"Total Units Sold\")\n",
    "pd.set_option('mode.chained_assignment', None)\n",
    "plt.show()\n",
    "\n",
    "\n",
    "# Save the plotted figure as .pngs\n",
    "plt.savefig('Graphs/camping_gear')"
   ]
  },
  {
   "cell_type": "code",
   "execution_count": null,
   "metadata": {},
   "outputs": [],
   "source": [
    "nineteen_tent = nineteen[(nineteen['Category'] == 'TENT') | (nineteen['Category'] == 'TENT')]\n",
    "twenty_bag = twenty[(twenty['Category'] == 'SLEEPING BAG') | (twenty['Category'] == 'SLEEPING BAG')]"
   ]
  },
  {
   "cell_type": "code",
   "execution_count": null,
   "metadata": {},
   "outputs": [],
   "source": [
    "nineteen_tent['Units'] = nineteen_tent['Units'].str.replace(',', '').astype(float)\n",
    "twenty_bag['Units'] = twenty_bag['Units'].str.replace(',', '').astype(float)\n",
    "\n",
    "a = nineteen_tent.groupby(['Month'],sort = False).sum()\n",
    "b = twenty_bag.groupby(['Month'], sort = False).sum()\n",
    "\n",
    "plt.plot(a[\"Units\"],color=\"blue\")\n",
    "plt.plot(b[\"Units\"],color=\"orange\")\n",
    "plt.legend([\"2019\",\"2020\"])\n",
    "plt.title(\"Tents & Sleeping Bags\")\n",
    "plt.xlabel(\"Month\")\n",
    "plt.ylabel(\"Units\")\n",
    "pd.set_option('mode.chained_assignment', None)\n",
    "plt.show()\n",
    "\n",
    "# Save the plotted figure as .pngs\n",
    "plt.savefig('Graphs/Tents_sleeping')"
   ]
  },
  {
   "cell_type": "markdown",
   "metadata": {},
   "source": [
    "Total Units Sold Graph"
   ]
  },
  {
   "cell_type": "code",
   "execution_count": null,
   "metadata": {},
   "outputs": [],
   "source": [
    "#Group by year and category\n",
    "grp_cat = npd_data.groupby([\"Year\", \"Category\"])\n",
    "\n",
    "#Get the sum of the units in the new groupby object\n",
    "sum_by_cat = grp_cat['Units'].sum()\n",
    "sum_by_cat\n",
    "\n",
    "#Create bar plot\n",
    "ax = sum_by_cat.unstack(0).plot(kind=\"bar\", rot=45, color=[\"blue\", \"orange\"])\n",
    "plt.xlabel(\"Category\")\n",
    "plt.ylabel(\"Total Units Sold\")\n",
    "plt.title(\"Total Units Sold by Category\")\n",
    "\n",
    "#Add the total values on the chart\n",
    "for i in ax.patches:\n",
    "    ax.text(i.get_x(), i.get_height(), \\\n",
    "           str(round((i.get_height()), 2)), fontsize=8, color=\"black\")\n",
    "    \n",
    "plt.grid(axis=\"y\")\n",
    "plt.savefig('Graphs/total_units')\n",
    "plt.show()\n",
    "plt.tight_layout()"
   ]
  },
  {
   "cell_type": "code",
   "execution_count": null,
   "metadata": {},
   "outputs": [],
   "source": [
    "sum_table = sum_by_cat.unstack(0)\n",
    "sum_table.columns.name = None\n",
    "\n",
    "#Create a column for the percent change\n",
    "sum_table['Percent Change'] = round((sum_table[2020] - sum_table[2019]) / sum_table[2019] * 100, 2)\n",
    "\n",
    "#Reset index\n",
    "sum_table = sum_table.reset_index()\n",
    "\n",
    "#Get the sum of all the values\n",
    "ttotal = sum_table.sum()\n",
    "\n",
    "#Gets the total percentage change\n",
    "total_change = round(((ttotal[2020] - ttotal[2019]) / ttotal[2019])*100, 2)\n",
    "\n",
    "#Adds a new row below everything have the total values\n",
    "sum_table = sum_table.append({'Category': 'TOTAL'}, ignore_index=True)\n",
    "\n",
    "#Adds the totals in the dataframe\n",
    "sum_table.iloc[5,1] = ttotal[2019]\n",
    "sum_table.iloc[5,2] = ttotal[2020]\n",
    "sum_table.iloc[5,3] = total_change\n",
    "\n",
    "#Set the index to be category to get rid of index number\n",
    "sum_table = sum_table.set_index('Category')\n",
    "sum_table"
   ]
  },
  {
   "cell_type": "code",
   "execution_count": null,
   "metadata": {},
   "outputs": [],
   "source": [
    "#Total Units of Camping Equipment Sold\n",
    "#Group by year and month\n",
    "month_df = npd_data.groupby(['Year', 'Month'], sort=False).sum()\n",
    "\n",
    "#Create line chart\n",
    "month_df.unstack(0).plot(kind=\"line\", y='Units', color=['blue','orange'])\n",
    "plt.title(\"Total Units Sold by Month\")\n",
    "plt.ylabel(\"Total Units Sold\")\n",
    "plt.savefig('Graphs/total_units_month')\n",
    "plt.show()\n",
    "plt.tight_layout()"
   ]
  }
 ],
 "metadata": {
  "anaconda-cloud": {},
  "kernelspec": {
   "display_name": "Python [conda env:PythonData] *",
   "language": "python",
   "name": "conda-env-PythonData-py"
  },
  "language_info": {
   "codemirror_mode": {
    "name": "ipython",
    "version": 3
   },
   "file_extension": ".py",
   "mimetype": "text/x-python",
   "name": "python",
   "nbconvert_exporter": "python",
   "pygments_lexer": "ipython3",
   "version": "3.6.10"
  }
 },
 "nbformat": 4,
 "nbformat_minor": 2
}
